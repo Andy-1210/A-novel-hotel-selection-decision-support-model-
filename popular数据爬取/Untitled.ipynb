{
 "cells": [
  {
   "cell_type": "code",
   "execution_count": null,
   "metadata": {},
   "outputs": [],
   "source": [
    "http://www.dianping.com/shop/l6M750oS2qcUtI6A/review_all"
   ]
  },
  {
   "cell_type": "code",
   "execution_count": 3,
   "metadata": {},
   "outputs": [
    {
     "name": "stdout",
     "output_type": "stream",
     "text": [
      "子，独立房，前居室置一个三居，确切地说我是次装修。对装修公司...\n",
      "展开评论\n"
     ]
    }
   ],
   "source": [
    "from selenium import webdriver\n",
    "import time\n",
    "import pandas as pd\n",
    "\n",
    "\n",
    "#实例化一个浏览器对象(传入浏览器的驱动程序)\n",
    "driver_path = r\"E:\\chromedriver\\chromedriver.exe\"    #我将chrome驱动安装的路径\n",
    "driver = webdriver.Chrome(executable_path = driver_path)\n",
    "\n",
    "#让浏览器发起一个指定url对应的请求\n",
    "driver.get(\"http://www.dianping.com/shop/l6M750oS2qcUtI6A/review_all\")\n",
    "\n",
    "driver.find_element_by_xpath('//*[@id=\"J-img-pop\"]/span').click()\n",
    "\n",
    "content = driver.find_element_by_xpath('//*[@id=\"review-list\"]/div[2]/div[3]/div[3]/div[3]/ul/li[1]/div/div[3]').text\n",
    "print(content)\n",
    "   \n",
    "\n",
    "    \n",
    "\n",
    "# 注意： 元素定位有个坑，如果元素没有加载出来，那么我们就不能定位到没有加载的数据\n",
    "# 解决方案： 使用 js 做滑动条操作"
   ]
  },
  {
   "cell_type": "code",
   "execution_count": null,
   "metadata": {},
   "outputs": [],
   "source": []
  }
 ],
 "metadata": {
  "kernelspec": {
   "display_name": "Python 3",
   "language": "python",
   "name": "python3"
  },
  "language_info": {
   "codemirror_mode": {
    "name": "ipython",
    "version": 3
   },
   "file_extension": ".py",
   "mimetype": "text/x-python",
   "name": "python",
   "nbconvert_exporter": "python",
   "pygments_lexer": "ipython3",
   "version": "3.7.4"
  },
  "toc": {
   "base_numbering": 1,
   "nav_menu": {},
   "number_sections": true,
   "sideBar": true,
   "skip_h1_title": false,
   "title_cell": "Table of Contents",
   "title_sidebar": "Contents",
   "toc_cell": false,
   "toc_position": {},
   "toc_section_display": true,
   "toc_window_display": false
  }
 },
 "nbformat": 4,
 "nbformat_minor": 4
}
