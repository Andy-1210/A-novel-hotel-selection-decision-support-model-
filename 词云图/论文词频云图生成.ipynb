{
 "cells": [
  {
   "cell_type": "code",
   "execution_count": 2,
   "metadata": {},
   "outputs": [
    {
     "name": "stdout",
     "output_type": "stream",
     "text": [
      "{'Hotel': 274, 'Great': 145, 'Convenience': 117, 'extremely': 114, 'Room': 10, 'service': 94, 'Check in': 72, 'Shanghai': 65, 'facility': 56, 'Position': 55, 'live': 54, 'environment': 44, 'Next time': 43, 'breakfast': 41, 'Nanjing Road': 37, 'Bund': 35, 'Location': 7, 'love': 34, 'recommend': 33, 'Baton': 29, 'Still willing': 29, 'traffic': 29, 'clean': 28, 'Price': 28, 'Walking street': 28, 'restaurant': 26, 'choice': 7, 'deserve': 24, 'Comfortable': 20, 'Lobby': 23, 'feeling': 22, 'satisfaction': 21, 'sanitation': 21, 'Cost performance': 21, 'relatively': 20, 'Travel': 20, 'high': 20, 'subway': 19, 'Kind of': 19, 'tremendous': 18, 'Very close': 17, 'convenient': 17, 'Nanjing East Road': 16, 'not to exist': 16, 'distance': 16, 'Very ': 16, 'near': 16, 'meeting': 16, 'especially': 16, 'airport': 16, 'Waiter': 15, 'this home': 15, 'Hotel facilities': 15, 'Decoration': 14, 'New': 14, 'Good': 14, 'great quantity': 13, 'First class': 13, 'speak': 13, 'free': 13, 'nearby': 13, 'shopping': 13, 'Experience': 9, 'eat': 11, 'One': 12, 'peace': 12, 'lie in': 12, 'suite': 12, 'Five stars': 12, 'parking': 12, 'Five star': 12, 'quite': 12, 'aircraft': 12, 'Really': 11, 'rich': 11, 'number': 11, 'completely': 11, 'neighborhood': 11, 'expensive': 11, 'subway station': 11, 'Front desk': 11, 'side': 11, 'Service attitude': 11, 'enthusiasm': 11, 'overall': 11, 'history': 10, 'building': 10, 'A family': 10, 'luxury': 10, 'give away': 10, 'at night': 10, 'inside': 10, 'superior': 10, 'repeatedly': 10, 'walk': 10, 'Surrounding': 10, 'champagne': 10, 'everyone': 10, 'haymarket': 10, 'treat': 10, 'city': 10, 'bathroom': 10, 'sleep': 9, 'team': 9, 'thank': 9, 'attention': 9, 'pool': 9, 'drinks': 9, 'shower': 9, 'things': 9, 'wife': 9, 'milestone': 9, 'street': 9, 'minutes': 8, 'door': 8, 'days': 8, 'Décor': 8, 'desk': 8, 'beds': 8, 'food': 8, 'park': 8, 'night': 8, 'excellent': 7, 'dinner': 7, 'palace': 7, 'amenities': 7, 'return': 7, 'tube': 7, 'star': 7, 'visit': 7, 'quality': 7, 'reception': 7, 'Floor': 7, 'detail': 7, 'room': 7, 'size': 7, 'bath shower': 7}\n"
     ]
    }
   ],
   "source": [
    "import pandas as pd\n",
    "dfs = pd.read_excel('./词频.xlsx')\n",
    "df0=dfs['词语'].tolist()\n",
    "df1=dfs['词频'].tolist()\n",
    "df = dict(zip(df0,df1))\n",
    "print(df)"
   ]
  },
  {
   "cell_type": "code",
   "execution_count": 3,
   "metadata": {},
   "outputs": [
    {
     "data": {
      "text/plain": [
       "<wordcloud.wordcloud.WordCloud at 0xb0e9c70>"
      ]
     },
     "execution_count": 3,
     "metadata": {},
     "output_type": "execute_result"
    }
   ],
   "source": [
    "import wordcloud\n",
    "\n",
    "#导入imageio 库中的imread函数，并用这个函数读取本地图片，作为词云形状图片\n",
    "import imageio\n",
    "#mk = imageio.imread(\"./wujiaoxing.jpg\")\n",
    "\n",
    "\n",
    "#构建并配置词云对象\n",
    "w = wordcloud.WordCloud(width = 700,\n",
    "                        height = 400,\n",
    "                        background_color = 'white',\n",
    "                        font_path = 'msyh.ttc',\n",
    "                        #mask = mk,\n",
    "                        scale = 30)\n",
    "\n",
    "#将string变量传入w的generate()方法，给词云输入文字\n",
    "w.generate_from_frequencies(df)\n",
    "\n",
    "#将词云图片显示\n",
    "#w.to_image()\n",
    "\n",
    "#将词云图片导出当前文奸夹\n",
    "w.to_file('写作paper.png')"
   ]
  },
  {
   "cell_type": "code",
   "execution_count": null,
   "metadata": {},
   "outputs": [],
   "source": []
  }
 ],
 "metadata": {
  "kernelspec": {
   "display_name": "Python 3",
   "language": "python",
   "name": "python3"
  },
  "language_info": {
   "codemirror_mode": {
    "name": "ipython",
    "version": 3
   },
   "file_extension": ".py",
   "mimetype": "text/x-python",
   "name": "python",
   "nbconvert_exporter": "python",
   "pygments_lexer": "ipython3",
   "version": "3.8.5"
  },
  "toc": {
   "base_numbering": 1,
   "nav_menu": {},
   "number_sections": true,
   "sideBar": true,
   "skip_h1_title": false,
   "title_cell": "Table of Contents",
   "title_sidebar": "Contents",
   "toc_cell": false,
   "toc_position": {},
   "toc_section_display": true,
   "toc_window_display": false
  }
 },
 "nbformat": 4,
 "nbformat_minor": 4
}
