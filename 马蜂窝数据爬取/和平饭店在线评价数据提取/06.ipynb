{
 "cells": [
  {
   "cell_type": "code",
   "execution_count": null,
   "metadata": {},
   "outputs": [],
   "source": [
    "https://m.mafengwo.cn/hservice/detail/reviews/tag_detail?_ts=1589762508677&boundary=120&hotel_id=4532&tag_id=0&_sn=7141e4ac04"
   ]
  },
  {
   "cell_type": "code",
   "execution_count": 1,
   "metadata": {},
   "outputs": [
    {
     "name": "stdout",
     "output_type": "stream",
     "text": [
      "卫生间大到离谱。员工很和蔼，地理位置很好。大厅的香气太浓郁了……觉得鼻炎要犯了。 2019-07-12 5 大牙象 https://m.mafengwo.cn/nb/public/sharejump.php?type=25&uid=95276523\n",
      "世界和平。历史非常悠久，很有故事的一家酒店。酒店内还设有博物馆，参加了每天上午的博物馆导览，非常棒！房间服务疏忽了，没有放茶包！不过后来打电话总台，马上就送来了！服务态度很好！ 2019-07-12 5 堅亨 https://m.mafengwo.cn/nb/public/sharejump.php?type=25&uid=95276394\n",
      "历史感满满。房间很大，小朋友到处跑跳都不显得局促。装修很有历史感，清洁程度也不错。来这就是来住历史的其实，价格也不算高。位置当然方便了，就在外滩。遗憾没有去听爵士乐队演出。床铺是欧式的大软床，太软了，其实不适合中国人的睡眠习惯。我父母都睡不习惯，最后还把那个软垫拆掉。建议可以在预订里有选择床铺是中式还是西式。 2019-07-12 5 Чужнчао https://m.mafengwo.cn/nb/public/sharejump.php?type=25&uid=95274436\n",
      "像穿越剧，奇妙的体验～。上海贵族式体验，。 2019-07-12 5 一瑄 https://m.mafengwo.cn/nb/public/sharejump.php?type=25&uid=95274502\n",
      "很棒。服務人員態度非常好。第二天馬桶不通。 2019-07-12 5 小茜 https://m.mafengwo.cn/nb/public/sharejump.php?type=25&uid=95277437\n",
      "舒服。是我在国内住的酒店最满意的一间，各方面都很好。 2019-07-12 5 千手观音 https://m.mafengwo.cn/nb/public/sharejump.php?type=25&uid=95275741\n",
      "国庆期间入住的，风景好的不得了，出门左拐就是外滩，费尔蒙套房设施豪华又不失古典韵味。唯一缺点就是空调系统不是独立的，不能自由切换冷暖。 2017-10-15 5 Anakin https://m.mafengwo.cn/nb/public/sharejump.php?type=25&uid=71260308\n",
      "历史感满满的酒店，必须五星好评 2017-10-09 5 不自觉的路小美 https://m.mafengwo.cn/nb/public/sharejump.php?type=25&uid=59852309\n",
      "設備傢俱古典豪華，接待人員態度親切客氣，不虧為百年歷史經典飯店!。設備傢俱古典豪華，接待人員態度親切客氣，不虧為百年歷史經典飯店!。 2019-07-12 5 咖啡鱼鱼 https://m.mafengwo.cn/nb/public/sharejump.php?type=25&uid=95276066\n",
      "位置一流，和平饭店这栋楼在许多外滩景观照上都是看得到的，美中不足的是江景房只有几个套房才有，我们这些普通房型就只能看到城景了，靠角落的那个双床房的床也很大，估计一张床上睡个两个人是没问题。卫生间设计很好，干湿分离，也装修的非常有年代感，电梯旁边的步行梯让人一秒钟穿越回上个世纪三十年代。服务一流，工作人员都是带着笑的。早餐可以说是中规中矩，说不上特别好吃，就是一般五星的样子，胜在用餐环境很好，总之下次去上海玩还选这家啦～ 2017-09-10 5 蚂蜂窝用户 https://m.mafengwo.cn/nb/public/sharejump.php?type=25&uid=31390374\n",
      "优异的。房间很漂亮，老上海味道~行政层前台服务生服务超棒！去过结婚纪念日，还给我们准备了卡片鲜花蛋糕，还有房间里的小惊喜，觉得很用心，感动！下午茶开胃菜早餐品种也挺丰富的。酒店博物馆的导览也很不错，提问都能被回答。整体很满意！夜床服务的服务生说好时间了，后来却没有来，忘了拉窗帘第二天好亮…小遗憾~。 2019-07-12 5 Zuzu https://m.mafengwo.cn/nb/public/sharejump.php?type=25&uid=95274306\n",
      "不虚此行。有着厚重历史感和艺术感的和平饭店。无论是大堂还是走廊，亦或是房间里的每一处小摆设，都匠心独具，处处风景。来之前读了《跷脚沙逊》，又约了酒店导览参观了酒店博物馆和标志性地点，感谢博物馆HEbe Zhang 的耐心讲解及酒店员工的优秀服务！ 2019-07-12 5 你是我的初梦╰ https://m.mafengwo.cn/nb/public/sharejump.php?type=25&uid=95272935\n",
      "有文化有沉淀，但服务差，太刻板。服务！ 2019-07-12 5 可以 https://m.mafengwo.cn/nb/public/sharejump.php?type=25&uid=95275871\n",
      "字字字字字字字字字字字字字字字字字字 2017-08-05 5 蚂蜂窝用户 https://m.mafengwo.cn/nb/public/sharejump.php?type=25&uid=47881741\n",
      "上海标志性建筑直到1983年是中国大陆最高建筑物,值得一住的好饭店 2017-06-22 5 企鵝大陸 https://m.mafengwo.cn/nb/public/sharejump.php?type=25&uid=43874518\n",
      "再浦江之畔和平饭店真的称得上舍我其谁这四个字。1991年到1994年，和平饭店连续4个年度被评为“世界最著名饭店”，并至今仍是中国唯一一家被评为世界著名饭店的酒店。偶尔也会承接下发布会和展览。写点评的主要原因依旧是。和平饭店顶楼的天台。真是一个拍摄黄浦江两岸风光的绝赞位置。吹吹风。拍拍照。看看景色。陶醉不已。只恨广角还不够广…… 2017-06-01 5 宇中蜃楼 https://m.mafengwo.cn/nb/public/sharejump.php?type=25&uid=5318862\n",
      "1，和平饭店作为上海老牌酒店，在费尔蒙集团入驻后整体大修，如今设施完善又不失十里洋场风味；服务延续了费尔蒙集团一向的高水准（例如入驻有服务员带到房间）。总体看是上海当之无愧TOP5的酒店之一；\r\n",
      "2，推荐天台酒吧，可提前预约俯瞰外滩景色 2017-05-30 5 行者老孙 https://m.mafengwo.cn/nb/public/sharejump.php?type=25&uid=17816586\n",
      "位置太牛了，紧邻外滩第一栋楼，大堂的装修和装饰也很有味道，大气。本身这也是一个有历史的饭店，价格也可以。 2017-05-27 5 yuer~~mm https://m.mafengwo.cn/nb/public/sharejump.php?type=25&uid=31910869\n",
      "慕名而来，没有让人失望，到上海必须住和平饭店，有历史 2017-05-10 5 静夜听 https://m.mafengwo.cn/nb/public/sharejump.php?type=25&uid=19000864\n",
      "一切都超出预期，以后到上海再无第二选择！仅仅用1000便住到了标价2400+的双早房间，感觉就像住到了博物馆里。自成景点，外边总会有游客会把着玻璃往里看一看。无论从哪个门进入，都会一下穿越回到老上海。住客的隐形福利不要太多：可免费参观和平博物馆，并预约免费讲解；可以无低消观看爵士酒吧的演出，并可提前预约，外来客人均消费需要300以上；9层露台免费提供给住客赏景，要知道夜晚的外滩虽然迷人，但更挤人；五星以上的服务水准、宽敞舒适的入住环境、免费的入住水果与足量的客供饮用水及每天的阅读报、2分钟步行即可到达外滩的优越环境，都给我留下极为深刻的印象。有爱好旅行或者有酒店预订需求的可以加我这边有低价：hotelbusiness 2017-05-04 5 赵瑞鸥 https://m.mafengwo.cn/nb/public/sharejump.php?type=25&uid=62179446\n"
     ]
    }
   ],
   "source": [
    "import requests\n",
    "import json\n",
    "import time\n",
    "import csv\n",
    "\n",
    "# 新建文件保存\n",
    "csvf = open('./mafengwo6.csv','a+',encoding='gbk',newline ='')\n",
    "writer = csv.writer(csvf)\n",
    "writer.writerow(('name','content','score','create_time','user_url'))\n",
    "\n",
    "headers = {\n",
    "    \"User-Agent\": \"Mozilla/5.0 (Windows NT 10.0; Win64; x64) AppleWebKit/537.36 (KHTML, like Gecko) Chrome/80.0.3987.149 Safari/537.36\",\n",
    "    \"Referer\": \"https://item.jd.com/100003961325.html\",\n",
    "    \"cookie\": \"mfw_uuid=5ea525a5-e2ad-9308-5359-57a41d1b29b0; uva=s%3A91%3A%22a%3A3%3A%7Bs%3A2%3A%22lt%22%3Bi%3A1587881382%3Bs%3A10%3A%22last_refer%22%3Bs%3A23%3A%22http%3A%2F%2Fwww.mafengwo.cn%2F%22%3Bs%3A5%3A%22rhost%22%3BN%3B%7D%22%3B; __mfwurd=a%3A3%3A%7Bs%3A6%3A%22f_time%22%3Bi%3A1587881382%3Bs%3A9%3A%22f_rdomain%22%3Bs%3A15%3A%22www.mafengwo.cn%22%3Bs%3A6%3A%22f_host%22%3Bs%3A3%3A%22www%22%3B%7D; __mfwuuid=5ea525a5-e2ad-9308-5359-57a41d1b29b0; UM_distinctid=171b51b10641de-0e17e4e8c4a34b-f313f6d-100200-171b51b10651c1; c=DmDdSy5q-1589680323437-af5b76dd4202b1976333380; __omc_chl=; _fmdata=2N9lFghgOaV7iB2zVeGQADxkSZKecvKO9yQcJyD9FmK16b%2BP2clbllYsKJ4pC3yE%2FiGHSu8LA%2BEEDzUqwp6%2B3lDAzM3TOS98L9kw681ENRc%3D; _xid=n%2Fs62EmJHt2prtW6qP33QMcRIH%2FAsIlkA8vowzD%2FnGEHsCjFZ4bQGkXwQIsRsdUgVbhQxBuMXy%2BAPVpTTsuu1A%3D%3D; __mfwa=1587881381172.69793.6.1589698301321.1589702779055; __mfwlv=1589702779; __mfwvn=4; PHPSESSID=v1mvfhqpo5cf7cs3ijbk8imtq1; _r=baidu; _rp=a%3A2%3A%7Bs%3A1%3A%22p%22%3Bs%3A18%3A%22www.baidu.com%2Flink%22%3Bs%3A1%3A%22t%22%3Bi%3A1589705296%3B%7D; oad_n=a%3A5%3A%7Bs%3A5%3A%22refer%22%3Bs%3A21%3A%22https%3A%2F%2Fwww.baidu.com%22%3Bs%3A2%3A%22hp%22%3Bs%3A13%3A%22www.baidu.com%22%3Bs%3A3%3A%22oid%22%3Bi%3A1026%3Bs%3A2%3A%22dm%22%3Bs%3A15%3A%22www.mafengwo.cn%22%3Bs%3A2%3A%22ft%22%3Bs%3A19%3A%222020-05-17+16%3A48%3A16%22%3B%7D; __mfwothchid=referrer%7Cwww.baidu.com; __omc_r=www.baidu.com; __mfwc=referrer%7Cwww.baidu.com; Hm_lvt_8288b2ed37e5bc9b4c9f7008798d2de0=1587881382,1589679893,1589705296; isDownClick_adis_baidu=1; CNZZDATA30081550=cnzz_eid%3D1556416327-1589704860-https%253A%252F%252Fm.mafengwo.cn%252F%26ntime%3D1589704860; __mfwb=276c2c94dd72.28.direct; __mfwlt=1589705518; Hm_lpvt_8288b2ed37e5bc9b4c9f7008798d2de0=1589705519; walkroof=QO17L94B7904EA2XSUBHDF36N1BJN2CWM1UF353\"\n",
    "}\n",
    "url = \"https://m.mafengwo.cn/hservice/detail/reviews/tag_detail?_ts=1589762508677&boundary=120&hotel_id=4532&tag_id=0&_sn=7141e4ac04\"\n",
    "\n",
    "page_text = requests.get(url=url,headers=headers).text\n",
    "json_data = json.loads(page_text)\n",
    "comments = json_data[\"data\"][\"comment_list\"]\n",
    "urls_list = []\n",
    "for comment in comments:\n",
    "    content = comment[\"content\"]\n",
    "    create_time = comment[\"create_time\"]\n",
    "    score = comment[\"score\"]\n",
    "    name = comment[\"user_info\"][\"name\"]\n",
    "    user_url = comment[\"user_info\"][\"user_url\"]\n",
    "    urls_list.append(user_url)\n",
    "    try:\n",
    "        print(content,create_time,score,name,user_url)\n",
    "        writer.writerow((name,content,score,create_time,user_url))\n",
    "    except:\n",
    "        pass\n",
    "csvf.close()"
   ]
  },
  {
   "cell_type": "code",
   "execution_count": null,
   "metadata": {},
   "outputs": [],
   "source": []
  }
 ],
 "metadata": {
  "kernelspec": {
   "display_name": "Python 3",
   "language": "python",
   "name": "python3"
  },
  "language_info": {
   "codemirror_mode": {
    "name": "ipython",
    "version": 3
   },
   "file_extension": ".py",
   "mimetype": "text/x-python",
   "name": "python",
   "nbconvert_exporter": "python",
   "pygments_lexer": "ipython3",
   "version": "3.7.4"
  },
  "toc": {
   "base_numbering": 1,
   "nav_menu": {},
   "number_sections": true,
   "sideBar": true,
   "skip_h1_title": false,
   "title_cell": "Table of Contents",
   "title_sidebar": "Contents",
   "toc_cell": false,
   "toc_position": {},
   "toc_section_display": true,
   "toc_window_display": false
  }
 },
 "nbformat": 4,
 "nbformat_minor": 4
}
