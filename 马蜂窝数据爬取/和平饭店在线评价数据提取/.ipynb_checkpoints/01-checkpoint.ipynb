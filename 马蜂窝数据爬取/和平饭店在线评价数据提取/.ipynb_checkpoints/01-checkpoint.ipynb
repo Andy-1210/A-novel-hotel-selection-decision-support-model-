{
 "cells": [
  {
   "cell_type": "code",
   "execution_count": null,
   "metadata": {},
   "outputs": [],
   "source": [
    "https://m.mafengwo.cn/hservice/detail/reviews/tag_detail?_ts=1589708659706&boundary=0&hotel_id=4532&tag_id=0&_sn=abe34fcc81"
   ]
  },
  {
   "cell_type": "code",
   "execution_count": 2,
   "metadata": {},
   "outputs": [
    {
     "ename": "TypeError",
     "evalue": "list indices must be integers or slices, not str",
     "output_type": "error",
     "traceback": [
      "\u001b[1;31m---------------------------------------------------------------------------\u001b[0m",
      "\u001b[1;31mTypeError\u001b[0m                                 Traceback (most recent call last)",
      "\u001b[1;32m<ipython-input-2-5fdd0d33c78a>\u001b[0m in \u001b[0;36m<module>\u001b[1;34m\u001b[0m\n\u001b[0;32m     17\u001b[0m \u001b[0mpage_text\u001b[0m \u001b[1;33m=\u001b[0m \u001b[0mrequests\u001b[0m\u001b[1;33m.\u001b[0m\u001b[0mget\u001b[0m\u001b[1;33m(\u001b[0m\u001b[0murl\u001b[0m\u001b[1;33m=\u001b[0m\u001b[0murl\u001b[0m\u001b[1;33m,\u001b[0m\u001b[0mheaders\u001b[0m\u001b[1;33m=\u001b[0m\u001b[0mheaders\u001b[0m\u001b[1;33m)\u001b[0m\u001b[1;33m.\u001b[0m\u001b[0mtext\u001b[0m\u001b[1;33m\u001b[0m\u001b[1;33m\u001b[0m\u001b[0m\n\u001b[0;32m     18\u001b[0m \u001b[0mjson_data\u001b[0m \u001b[1;33m=\u001b[0m \u001b[0mjson\u001b[0m\u001b[1;33m.\u001b[0m\u001b[0mloads\u001b[0m\u001b[1;33m(\u001b[0m\u001b[0mpage_text\u001b[0m\u001b[1;33m)\u001b[0m\u001b[1;33m\u001b[0m\u001b[1;33m\u001b[0m\u001b[0m\n\u001b[1;32m---> 19\u001b[1;33m \u001b[0mcomments\u001b[0m \u001b[1;33m=\u001b[0m \u001b[0mjson_data\u001b[0m\u001b[1;33m[\u001b[0m\u001b[1;34m\"data\"\u001b[0m\u001b[1;33m]\u001b[0m\u001b[1;33m[\u001b[0m\u001b[1;34m\"comment_list\"\u001b[0m\u001b[1;33m]\u001b[0m\u001b[1;33m\u001b[0m\u001b[1;33m\u001b[0m\u001b[0m\n\u001b[0m\u001b[0;32m     20\u001b[0m \u001b[0muser_url_list\u001b[0m \u001b[1;33m=\u001b[0m \u001b[1;33m[\u001b[0m\u001b[1;33m]\u001b[0m\u001b[1;33m\u001b[0m\u001b[1;33m\u001b[0m\u001b[0m\n\u001b[0;32m     21\u001b[0m \u001b[1;32mfor\u001b[0m \u001b[0mcomment\u001b[0m \u001b[1;32min\u001b[0m \u001b[0mcomments\u001b[0m\u001b[1;33m:\u001b[0m\u001b[1;33m\u001b[0m\u001b[1;33m\u001b[0m\u001b[0m\n",
      "\u001b[1;31mTypeError\u001b[0m: list indices must be integers or slices, not str"
     ]
    }
   ],
   "source": [
    "import requests\n",
    "import json\n",
    "import time\n",
    "import csv\n",
    "\n",
    "# # 新建文件保存\n",
    "# csvf = open('./mafengwo1.csv','a+',encoding='gbk',newline ='')\n",
    "# writer = csv.writer(csvf)\n",
    "# writer.writerow(('name','content','score','create_time','user_url'))\n",
    "\n",
    "headers = {\n",
    "    \"User-Agent\": \"Mozilla/5.0 (Windows NT 10.0; Win64; x64) AppleWebKit/537.36 (KHTML, like Gecko) Chrome/80.0.3987.149 Safari/537.36\",\n",
    "    \"Referer\": \"https://item.jd.com/100003961325.html\",\n",
    "    \"cookie\": \"mfw_uuid=5ea525a5-e2ad-9308-5359-57a41d1b29b0; uva=s%3A91%3A%22a%3A3%3A%7Bs%3A2%3A%22lt%22%3Bi%3A1587881382%3Bs%3A10%3A%22last_refer%22%3Bs%3A23%3A%22http%3A%2F%2Fwww.mafengwo.cn%2F%22%3Bs%3A5%3A%22rhost%22%3BN%3B%7D%22%3B; __mfwurd=a%3A3%3A%7Bs%3A6%3A%22f_time%22%3Bi%3A1587881382%3Bs%3A9%3A%22f_rdomain%22%3Bs%3A15%3A%22www.mafengwo.cn%22%3Bs%3A6%3A%22f_host%22%3Bs%3A3%3A%22www%22%3B%7D; __mfwuuid=5ea525a5-e2ad-9308-5359-57a41d1b29b0; UM_distinctid=171b51b10641de-0e17e4e8c4a34b-f313f6d-100200-171b51b10651c1; c=DmDdSy5q-1589680323437-af5b76dd4202b1976333380; __omc_chl=; __mfwa=1587881381172.69793.6.1589698301321.1589702779055; __mfwvn=4; __mfwlv=1589702779; PHPSESSID=v1mvfhqpo5cf7cs3ijbk8imtq1; _r=baidu; _rp=a%3A2%3A%7Bs%3A1%3A%22p%22%3Bs%3A18%3A%22www.baidu.com%2Flink%22%3Bs%3A1%3A%22t%22%3Bi%3A1589705296%3B%7D; CNZZDATA30081550=cnzz_eid%3D1556416327-1589704860-https%253A%252F%252Fm.mafengwo.cn%252F%26ntime%3D1589704860; _fmdata=2N9lFghgOaV7iB2zVeGQADxkSZKecvKO9yQcJyD9FmK16b%2BP2clbllYsKJ4pC3yETizBHOdNoc2zKYlC1YPxg8BNY9IhNqr8TDIP8Vzp0MY%3D; _xid=nNZZExbGcW1dWQs9tPZe3nS9XHJnzpZGWxMhuKV2GGngHCYFhAJaE7gEDJfaU7CZTTU%2FuTeiiBsKSGlflIDRyw%3D%3D; __mfwothchid=referrer%7Copen.weixin.qq.com; __omc_r=open.weixin.qq.com; __mfwc=referrer%7Copen.weixin.qq.com; Hm_lvt_8288b2ed37e5bc9b4c9f7008798d2de0=1587881382,1589679893,1589705296,1589708555; login=mafengwo; mafengwo=08655c2b240bcf30040d7e0da25c5980_54347882_5ec1072840cdb7.09794201_5ec1072840ce31.14034025; uol_throttle=54347882; mfw_uid=54347882; oad_n=a%3A3%3A%7Bs%3A3%3A%22oid%22%3Bi%3A1029%3Bs%3A2%3A%22dm%22%3Bs%3A15%3A%22www.mafengwo.cn%22%3Bs%3A2%3A%22ft%22%3Bs%3A19%3A%222020-05-17+17%3A43%3A04%22%3B%7D; __mfwb=276c2c94dd72.39.direct; __mfwlt=1589708658; Hm_lpvt_8288b2ed37e5bc9b4c9f7008798d2de0=1589708659; walkroof=2ODNAENWRT0ETBBC16Z5JIS7EHF5UDVL51NB131\"}\n",
    "url = \"https://m.mafengwo.cn/hservice/detail/reviews/tag_detail?_ts=1589708659706&boundary=0&hotel_id=4532&tag_id=0&_sn=abe34fcc81\"\n",
    "\n",
    "page_text = requests.get(url=url,headers=headers).text\n",
    "json_data = json.loads(page_text)\n",
    "comments = json_data[\"data\"][\"comment_list\"]\n",
    "user_url_list = []\n",
    "for comment in comments:\n",
    "    name = comment[\"user_info\"][\"name\"]\n",
    "    user_url = comment[\"user_info\"][\"user_url\"]\n",
    "    try:\n",
    "        print(name,user_url)\n",
    "        user_url_list.append(user_url)\n",
    "    except:\n",
    "        pass\n"
   ]
  },
  {
   "cell_type": "code",
   "execution_count": null,
   "metadata": {},
   "outputs": [],
   "source": []
  }
 ],
 "metadata": {
  "kernelspec": {
   "display_name": "Python 3",
   "language": "python",
   "name": "python3"
  },
  "language_info": {
   "codemirror_mode": {
    "name": "ipython",
    "version": 3
   },
   "file_extension": ".py",
   "mimetype": "text/x-python",
   "name": "python",
   "nbconvert_exporter": "python",
   "pygments_lexer": "ipython3",
   "version": "3.7.4"
  },
  "toc": {
   "base_numbering": 1,
   "nav_menu": {},
   "number_sections": true,
   "sideBar": true,
   "skip_h1_title": false,
   "title_cell": "Table of Contents",
   "title_sidebar": "Contents",
   "toc_cell": false,
   "toc_position": {},
   "toc_section_display": true,
   "toc_window_display": false
  }
 },
 "nbformat": 4,
 "nbformat_minor": 4
}
