{
 "cells": [
  {
   "cell_type": "code",
   "execution_count": null,
   "metadata": {},
   "outputs": [],
   "source": [
    "\n",
    "\n",
    "url = \"https://m.mafengwo.cn/hservice/detail/reviews/tag_detail?_ts=1589705603724&boundary=60&hotel_id=4532&tag_id=0&_sn=ab1020cc80\"\n",
    "      \"https://m.mafengwo.cn/hservice/detail/reviews/tag_detail?_ts=1589705582123&boundary=40&hotel_id=4532&tag_id=0&_sn=18493d4344\"\n",
    "     "
   ]
  },
  {
   "cell_type": "code",
   "execution_count": 1,
   "metadata": {},
   "outputs": [
    {
     "ename": "TypeError",
     "evalue": "list indices must be integers or slices, not str",
     "output_type": "error",
     "traceback": [
      "\u001b[1;31m---------------------------------------------------------------------------\u001b[0m",
      "\u001b[1;31mTypeError\u001b[0m                                 Traceback (most recent call last)",
      "\u001b[1;32m<ipython-input-1-1e8f277378cf>\u001b[0m in \u001b[0;36m<module>\u001b[1;34m\u001b[0m\n\u001b[0;32m     13\u001b[0m \u001b[0mpage_text\u001b[0m \u001b[1;33m=\u001b[0m \u001b[0mrequests\u001b[0m\u001b[1;33m.\u001b[0m\u001b[0mget\u001b[0m\u001b[1;33m(\u001b[0m\u001b[0murl\u001b[0m\u001b[1;33m=\u001b[0m\u001b[0murl\u001b[0m\u001b[1;33m,\u001b[0m\u001b[0mheaders\u001b[0m\u001b[1;33m=\u001b[0m\u001b[0mheaders\u001b[0m\u001b[1;33m)\u001b[0m\u001b[1;33m.\u001b[0m\u001b[0mtext\u001b[0m\u001b[1;33m\u001b[0m\u001b[1;33m\u001b[0m\u001b[0m\n\u001b[0;32m     14\u001b[0m \u001b[0mjson_data\u001b[0m \u001b[1;33m=\u001b[0m \u001b[0mjson\u001b[0m\u001b[1;33m.\u001b[0m\u001b[0mloads\u001b[0m\u001b[1;33m(\u001b[0m\u001b[0mpage_text\u001b[0m\u001b[1;33m)\u001b[0m\u001b[1;33m\u001b[0m\u001b[1;33m\u001b[0m\u001b[0m\n\u001b[1;32m---> 15\u001b[1;33m \u001b[0mcomments\u001b[0m \u001b[1;33m=\u001b[0m \u001b[0mjson_data\u001b[0m\u001b[1;33m[\u001b[0m\u001b[1;34m\"data\"\u001b[0m\u001b[1;33m]\u001b[0m\u001b[1;33m[\u001b[0m\u001b[1;34m\"comment_list\"\u001b[0m\u001b[1;33m]\u001b[0m\u001b[1;33m\u001b[0m\u001b[1;33m\u001b[0m\u001b[0m\n\u001b[0m\u001b[0;32m     16\u001b[0m \u001b[0murls_list\u001b[0m \u001b[1;33m=\u001b[0m \u001b[1;33m[\u001b[0m\u001b[1;33m]\u001b[0m\u001b[1;33m\u001b[0m\u001b[1;33m\u001b[0m\u001b[0m\n\u001b[0;32m     17\u001b[0m \u001b[1;32mfor\u001b[0m \u001b[0mcomment\u001b[0m \u001b[1;32min\u001b[0m \u001b[0mcomments\u001b[0m\u001b[1;33m:\u001b[0m\u001b[1;33m\u001b[0m\u001b[1;33m\u001b[0m\u001b[0m\n",
      "\u001b[1;31mTypeError\u001b[0m: list indices must be integers or slices, not str"
     ]
    }
   ],
   "source": [
    "import requests\n",
    "import json\n",
    "import time\n",
    "import csv\n",
    "\n",
    "headers = {\n",
    "    \"User-Agent\": \"Mozilla/5.0 (Windows NT 10.0; Win64; x64) AppleWebKit/537.36 (KHTML, like Gecko) Chrome/80.0.3987.149 Safari/537.36\",\n",
    "    \"Referer\": \"https://item.jd.com/100003961325.html\",\n",
    "    \"cookie\": \"mfw_uuid=5ea525a5-e2ad-9308-5359-57a41d1b29b0; uva=s%3A91%3A%22a%3A3%3A%7Bs%3A2%3A%22lt%22%3Bi%3A1587881382%3Bs%3A10%3A%22last_refer%22%3Bs%3A23%3A%22http%3A%2F%2Fwww.mafengwo.cn%2F%22%3Bs%3A5%3A%22rhost%22%3BN%3B%7D%22%3B; __mfwurd=a%3A3%3A%7Bs%3A6%3A%22f_time%22%3Bi%3A1587881382%3Bs%3A9%3A%22f_rdomain%22%3Bs%3A15%3A%22www.mafengwo.cn%22%3Bs%3A6%3A%22f_host%22%3Bs%3A3%3A%22www%22%3B%7D; __mfwuuid=5ea525a5-e2ad-9308-5359-57a41d1b29b0; UM_distinctid=171b51b10641de-0e17e4e8c4a34b-f313f6d-100200-171b51b10651c1; c=DmDdSy5q-1589680323437-af5b76dd4202b1976333380; __omc_chl=; _fmdata=2N9lFghgOaV7iB2zVeGQADxkSZKecvKO9yQcJyD9FmK16b%2BP2clbllYsKJ4pC3yE%2FiGHSu8LA%2BEEDzUqwp6%2B3lDAzM3TOS98L9kw681ENRc%3D; _xid=n%2Fs62EmJHt2prtW6qP33QMcRIH%2FAsIlkA8vowzD%2FnGEHsCjFZ4bQGkXwQIsRsdUgVbhQxBuMXy%2BAPVpTTsuu1A%3D%3D; __mfwa=1587881381172.69793.6.1589698301321.1589702779055; __mfwlv=1589702779; __mfwvn=4; PHPSESSID=v1mvfhqpo5cf7cs3ijbk8imtq1; _r=baidu; _rp=a%3A2%3A%7Bs%3A1%3A%22p%22%3Bs%3A18%3A%22www.baidu.com%2Flink%22%3Bs%3A1%3A%22t%22%3Bi%3A1589705296%3B%7D; oad_n=a%3A5%3A%7Bs%3A5%3A%22refer%22%3Bs%3A21%3A%22https%3A%2F%2Fwww.baidu.com%22%3Bs%3A2%3A%22hp%22%3Bs%3A13%3A%22www.baidu.com%22%3Bs%3A3%3A%22oid%22%3Bi%3A1026%3Bs%3A2%3A%22dm%22%3Bs%3A15%3A%22www.mafengwo.cn%22%3Bs%3A2%3A%22ft%22%3Bs%3A19%3A%222020-05-17+16%3A48%3A16%22%3B%7D; __mfwothchid=referrer%7Cwww.baidu.com; __omc_r=www.baidu.com; __mfwc=referrer%7Cwww.baidu.com; Hm_lvt_8288b2ed37e5bc9b4c9f7008798d2de0=1587881382,1589679893,1589705296; isDownClick_adis_baidu=1; CNZZDATA30081550=cnzz_eid%3D1556416327-1589704860-https%253A%252F%252Fm.mafengwo.cn%252F%26ntime%3D1589704860; __mfwb=276c2c94dd72.28.direct; __mfwlt=1589705518; Hm_lpvt_8288b2ed37e5bc9b4c9f7008798d2de0=1589705519; walkroof=QO17L94B7904EA2XSUBHDF36N1BJN2CWM1UF353\"\n",
    "}\n",
    "url = \"https://m.mafengwo.cn/hservice/detail/reviews/tag_detail?_ts=1589705582123&boundary=40&hotel_id=4532&tag_id=0&_sn=18493d4344\"\n",
    "\n",
    "page_text = requests.get(url=url,headers=headers).text\n",
    "json_data = json.loads(page_text)\n",
    "comments = json_data[\"data\"][\"comment_list\"]\n",
    "urls_list = []\n",
    "for comment in comments:\n",
    "    content = comment[\"content\"]\n",
    "    create_time = comment[\"create_time\"]\n",
    "    score = comment[\"score\"]\n",
    "    name = comment[\"user_info\"][\"name\"]\n",
    "    user_url = comment[\"user_info\"][\"user_url\"]\n",
    "    urls_list.append(user_url)\n",
    "    try:\n",
    "        print(content,create_time,score,name,user_url)\n",
    "    except:\n",
    "        pass\n",
    "csvf.close()"
   ]
  },
  {
   "cell_type": "code",
   "execution_count": 18,
   "metadata": {
    "collapsed": true
   },
   "outputs": [
    {
     "name": "stdout",
     "output_type": "stream",
     "text": [
      "非常好。早餐还不错。金尊酒廊的下午茶很一般。 2019-07-12 5 小小青 https://m.mafengwo.cn/nb/public/sharejump.php?type=25&uid=95277308\n",
      "很棒。住宿環境。與約定房型不同，飯店無法提供我的預定。 2019-07-12 5 吳華華 https://m.mafengwo.cn/nb/public/sharejump.php?type=25&uid=95276001\n",
      "优异的。酒店工作人员非常热情，主动询问客人的需求，有求必应，令人难忘，尤其是早晨站在一楼电梯口的那位先生，跟每一位客人问候新年好，指引去早餐餐厅的方向，十分友善。酒店的停车位较紧张，停满后会让客人停到700米外的星荟广场，然后拿星荟广场的停车发票回到酒店前台报销。这点很麻烦，这意味第二天退房后我要去星荟广场取车，再回到酒店，把车停在门口（运气好没有警察的话），再去前台报销停车费。第二个很麻烦的问题是，星荟广场的停车费是微信支付的，付完后给了一个二维码据说是开电子发票的，但其实根本开不出发票，所以实际上80元的停车费是自掏腰包的。 2019-07-12 5 天爵 https://m.mafengwo.cn/nb/public/sharejump.php?type=25&uid=95276590\n",
      "优异的。早餐，床都比较舒服。房间格局有点狭小，空调有点噪音。 2019-07-12 5 傲雪 https://m.mafengwo.cn/nb/public/sharejump.php?type=25&uid=95275352\n",
      "棒棒哒。历史悠久，参观了酒店的博物馆，不虚此行，讲解员很nice，房间很舒适，设施很棒，下次还来。床有点太软。 2019-07-12 5 Yumin https://m.mafengwo.cn/nb/public/sharejump.php?type=25&uid=95273002\n",
      "优异的。房间空调声音很大 空气干燥 没有空气加湿器。 2019-07-12 5 三金花儿 https://m.mafengwo.cn/nb/public/sharejump.php?type=25&uid=95274567\n",
      "继续往前走就快到外滩了，结果我又被和平饭店羁绊住了脚步。到了和平饭店其实也就快到外滩了，这个地理方式很想香港尖沙咀那个通往维港的道路设置，对和平大饭店的感觉就是“很老上海”，而且觉得这里肯定发生过很多历史事件以及耐人寻味的故事……此时BGM得配上一首《上海滩》以表敬意，浪奔，浪喽（流）～在经过一个仅可“一人过”的小小旋转门后就看到了还挺复古的内部装饰，里面貌似在做一个电影展，在其中一个展台前有几位小姐姐在拍照，各种pose摆起来，一张不满意还得再掐一张的节奏，我好奇走过去瞅了一眼，小时代......偶没看过，无法get到她们拍照的点，拜拜。溜达了一圈儿，发现这里的门和楼梯都是小小的，蛮可爱的，电梯也是那种有点儿复古的即视感，一个上海小伙儿一直在指导他母亲如何摆pose拍照，哈哈，挺可爱的，此时我觉得对于本地人来说，这种大饭店一般不会是那种经常到访的地方，就譬如天津的利顺德大酒店，我还一次都没去过呢……偶尔当个景点来溜溜大概也是本地普通老百姓的一种乐趣吧，譬如我最近就有点儿对天津的古建筑感兴趣，尽管它们被改造成了各种饭店，但这不正好满足我这个吃货的需求么，哈哈哈！酒店的大堂穹顶蛮美丽的，五彩琉璃顶，I like it！ 2019-04-09 5 古希腊的精灵 https://m.mafengwo.cn/nb/public/sharejump.php?type=25&uid=60416265\n",
      "优异的。服务态度非常棒地理位置也很棒酒店环境和设施也非常满意下次还会选择和平饭店 是非常喜欢年代感浓烈的酒店了。 2019-07-12 5 咖喱 https://m.mafengwo.cn/nb/public/sharejump.php?type=25&uid=95276067\n",
      "性价比gao q。床品舒适，热水充足。早餐品种稍微少些。 2019-07-12 5 Zhizhong https://m.mafengwo.cn/nb/public/sharejump.php?type=25&uid=95273720\n",
      "优异的。整體住宿都滿意，下次到上海會再入住。想購買和飯店相關的商品做紀念，卻較少選擇。 2019-07-12 5 冬兰 https://m.mafengwo.cn/nb/public/sharejump.php?type=25&uid=95275482\n",
      "我喜歡。很大的房間來去自如。沒有。 2019-07-12 5 八阿哥 https://m.mafengwo.cn/nb/public/sharejump.php?type=25&uid=95275418\n",
      "地理位置无敌，内部装修大赞，怀旧情结满满。给爸妈定的结婚30周年礼物，他们很满意~酒店地理位置无敌，内部装修大赞，怀旧情结满满。 2019-07-12 5 卡卡168 https://m.mafengwo.cn/nb/public/sharejump.php?type=25&uid=95275805\n",
      "很棒。景觀很讚, 早餐好吃。價位偏高。 2019-07-12 5 孤蚀月 https://m.mafengwo.cn/nb/public/sharejump.php?type=25&uid=95276917\n",
      "优异的。交通方便；服務員十分熱情，2間房間是姊妹房，可以一齊聊天；飲食方便；酒店的9/F可以俯視整個外灘，晚上可以上去9/F睇到夜景；非常近外灘，外灘十分美麗，環境舒適，，在外灘可以睇到美麗的日出。沒有。 2019-07-12 5 喵喵喵仔 https://m.mafengwo.cn/nb/public/sharejump.php?type=25&uid=95276198\n",
      "优异的。房间的电话用不了 打给前台三十分钟才解决送餐服务。 2019-07-12 5 家麟 https://m.mafengwo.cn/nb/public/sharejump.php?type=25&uid=95277177\n",
      "一般般。洗衣房的Jeff服务专业快捷。1.枕头上有两块5cm*5cm的血渍，虽然打电话后更换及时，但实在是低级失误2.九楼早餐品种太单一3.大堂里非住客实在是太多了，乱糟糟，可否设立一些专供游客访问的时间段？4.订的是金尊客房，应该是可以直接去九楼check in，可是从进门起就没有人过问此点，一楼实在是太乱了5.每层楼似乎只有一部电梯？从房间走到电梯要很远，加之铺地毯，拖着行李很不方便。建议安排服务人员为客人主动安排行李车，并指出铺了地毯且路途遥远不便运输行李，而不是简单过问6.可能住客还是较多，服务人员对每位客人的专业度、亲和度还是应该提高。 2019-07-12 5 ㄢㄢㄢ安ㄢㄢㄢ安 https://m.mafengwo.cn/nb/public/sharejump.php?type=25&uid=95276981\n",
      "一般。床很舒服，电视节目全。服务真的非常混乱。前台。不太关心客人需求，客人反倒必须适应。爵士酒吧的服务人员居然追出来问我结账没有（已经在吧台结账）。从来没有在任何酒店遇到过这种令人难堪的局面。 2019-07-12 5 Ziyue https://m.mafengwo.cn/nb/public/sharejump.php?type=25&uid=95274111\n",
      "很棒。吃的 住的 地理位置都不错。儿童设施有待完善 没有儿童车的坡道 每次进出都需要抬。 2019-07-12 5 Zimin https://m.mafengwo.cn/nb/public/sharejump.php?type=25&uid=95274045\n",
      "酒店很好，环境设施都非常棒，服务也是很好的，有需要可以关注 2018-10-29 5 美妞 https://m.mafengwo.cn/nb/public/sharejump.php?type=25&uid=68097977\n",
      "环境超级好，方便，味道香，酒店不错，服务非常好，热情 2018-10-06 5 Morgan https://m.mafengwo.cn/nb/public/sharejump.php?type=25&uid=84746009\n"
     ]
    }
   ],
   "source": [
    "comments = json_data[\"data\"][\"comment_list\"]\n",
    "urls_list = []\n",
    "for comment in comments:\n",
    "    content = comment[\"content\"]\n",
    "    create_time = comment[\"create_time\"]\n",
    "    score = comment[\"score\"]\n",
    "    name = comment[\"user_info\"][\"name\"]\n",
    "    user_url = comment[\"user_info\"][\"user_url\"]\n",
    "    urls_list.append(user_url)\n",
    "    try:\n",
    "        print(content,create_time,score,name,user_url)\n",
    "        writer.writerow(('name','content','score','create_time','user_url'))\n",
    "    except:\n",
    "        pass\n",
    "csvf.close()"
   ]
  },
  {
   "cell_type": "code",
   "execution_count": null,
   "metadata": {},
   "outputs": [],
   "source": []
  }
 ],
 "metadata": {
  "kernelspec": {
   "display_name": "Python 3",
   "language": "python",
   "name": "python3"
  },
  "language_info": {
   "codemirror_mode": {
    "name": "ipython",
    "version": 3
   },
   "file_extension": ".py",
   "mimetype": "text/x-python",
   "name": "python",
   "nbconvert_exporter": "python",
   "pygments_lexer": "ipython3",
   "version": "3.7.4"
  },
  "toc": {
   "base_numbering": 1,
   "nav_menu": {},
   "number_sections": true,
   "sideBar": true,
   "skip_h1_title": false,
   "title_cell": "Table of Contents",
   "title_sidebar": "Contents",
   "toc_cell": false,
   "toc_position": {},
   "toc_section_display": true,
   "toc_window_display": false
  }
 },
 "nbformat": 4,
 "nbformat_minor": 4
}
