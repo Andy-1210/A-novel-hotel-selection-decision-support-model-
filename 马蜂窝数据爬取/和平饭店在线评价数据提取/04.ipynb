{
 "cells": [
  {
   "cell_type": "code",
   "execution_count": null,
   "metadata": {},
   "outputs": [],
   "source": [
    "https://m.mafengwo.cn/hservice/detail/reviews/tag_detail?_ts=1589709449211&boundary=80&hotel_id=4532&tag_id=0&_sn=5841143257"
   ]
  },
  {
   "cell_type": "code",
   "execution_count": 1,
   "metadata": {},
   "outputs": [
    {
     "name": "stdout",
     "output_type": "stream",
     "text": [
      "位置太好，家一般的感觉，外加浓厚的历史氛围 2018-08-15 5 马蜂窝用户 https://m.mafengwo.cn/nb/public/sharejump.php?type=25&uid=55397195\n",
      "优异的。地理位置特别好，就是酒店老了点房间不会太大，但金尊服务很满意。 2019-07-12 5 修平 https://m.mafengwo.cn/nb/public/sharejump.php?type=25&uid=95275286\n",
      "不错的体验。位置很好，离外滩很近，露台晚上一定要去，夜景不错。 2019-07-12 5 小麗 https://m.mafengwo.cn/nb/public/sharejump.php?type=25&uid=95277502\n",
      "体验历史感的酒店。和平饭店是一个有历史感的酒店，第二次去住，西餐还是很棒。服务堪忧，行李没人理，地点太繁华，门口全是人。 2019-07-12 5 伊菱 https://m.mafengwo.cn/nb/public/sharejump.php?type=25&uid=95274961\n",
      "感觉特别上档次，住的舒服，就是我住的0521房间一进门是冲着卫生间，个人感觉不好.窗户小点。 2018-08-08 5 马蜂窝用户 https://m.mafengwo.cn/nb/public/sharejump.php?type=25&uid=30282966\n",
      "好极了。地理位置，历史感和厚重感，打扫卫生很及时干净。基本没有。 2019-07-12 5 Zidi https://m.mafengwo.cn/nb/public/sharejump.php?type=25&uid=95273979\n",
      "很棒。房间比较大，舒适，装修风格非常有特色。 2019-07-12 5 佳啟 https://m.mafengwo.cn/nb/public/sharejump.php?type=25&uid=95275089\n",
      "优异的。不論酒店設施及服務也是一流, 到店是已是晚上9時左右, 負責接待的Eileen 及同事, 細安幫忙辦理手續及關心是否已進晚餐, 甚至可以代為安排等等,謝謝她們細心的服務. 外灘就在一絛馬路之隔, 可以避開人潮, 在清晨感受不一樣上海風情.。 2019-07-12 5 Zhenshan https://m.mafengwo.cn/nb/public/sharejump.php?type=25&uid=95273525\n",
      "服务环境一流 2018-07-31 5 fiakoh https://m.mafengwo.cn/nb/public/sharejump.php?type=25&uid=45627421\n",
      "非常好！非常好！ 2018-07-31 5 xiongxiayin https://m.mafengwo.cn/nb/public/sharejump.php?type=25&uid=59825788\n",
      "酒店很复古，住着非常舒适。一开始没看清定错了，酒店也很负责地换了我们想要的房间。还耐心地把我们带到房间，介绍了一下。床软软的，度过了较舒适的一晚。 2018-07-30 5 zhouhan https://m.mafengwo.cn/nb/public/sharejump.php?type=25&uid=82906439\n",
      "酒店环境，酒店员工服务都很好很满意，去外滩很近，出门就是外滩观光台，可以看到整个陆家嘴，到对面可以坐观光隧道很方便，下次还住这家酒店 2018-07-29 5 lin_summer_kay https://m.mafengwo.cn/nb/public/sharejump.php?type=25&uid=61248347\n",
      "酒店很棒！7月28日晚上电梯前的waiter 让人想起布达佩斯大饭店，人很nice 也很风趣幽默，像老朋友一样帮你解决各种问题。酒店的风格是以旧做旧，让人感受上个世纪30年代老上海的风情，很有味道。 2018-07-29 5 大帝 https://m.mafengwo.cn/nb/public/sharejump.php?type=25&uid=19988074\n",
      "很棒。充满历史感的同时，客房内设施很新很现代。工作人员都非常热情，笑容灿烂。因为本来定的房间一直没收拾完，等了一阵后前台帮我升了套房，很体贴。门铃响声极小，很容易听不见。由于在外滩边上，门前非常嘈杂拥挤，不过这一点不是酒店能控制的，毕竟是有历史的老牌酒店……。 2019-07-12 5 何小禾xx https://m.mafengwo.cn/nb/public/sharejump.php?type=25&uid=95275025\n",
      "优异的。地點很方便，出門就是南京東路和外灘。工作人員的服務也很好。 2019-07-12 5 姜瑞明 https://m.mafengwo.cn/nb/public/sharejump.php?type=25&uid=95276721\n",
      "令人愉悦。参观服务可以提前预约 lisa的讲解很棒。酒店前台员工态度一般。 2019-07-12 5 名字被狗叼走了 https://m.mafengwo.cn/nb/public/sharejump.php?type=25&uid=95272870\n",
      "服务态度超好!小朋友很喜欢，老人们也很喜欢!赞！早餐不错哟😊 2018-07-20 5 马蜂窝用户 https://m.mafengwo.cn/nb/public/sharejump.php?type=25&uid=78709818\n",
      "鄰近外灘夜景，晚上如果有控出去外面走走是一件十分享受的事情，早上如果爬得起來還可以去看外灘日出，蠻美的。早餐巴菲一級棒&amp;lt;3可惜以前的早餐更好，酒樓的商務酒廊有提供特別的早餐服務，蛋料理很多種，不過整體選擇項目的話還是大堂的早餐廳最多。房間十分乾淨，幾乎沒有灰塵，連我容易過敏的人都不太有鼻子癢的情形發生。服務人員十分親切，有受過良好的訓練，態度和善，處理事情快速，讓人會十分想再來住一次。 2019-07-12 5 子益 https://m.mafengwo.cn/nb/public/sharejump.php?type=25&uid=95276851\n",
      "优异的。床很舒服地點超讚樓下賣蛋糕的服務人員非常貼心!。 2019-07-12 5 吳郁儀 https://m.mafengwo.cn/nb/public/sharejump.php?type=25&uid=95276002\n",
      "优异的。床很软很舒服，地理位置好。 2019-07-12 5 好大一条鱼 https://m.mafengwo.cn/nb/public/sharejump.php?type=25&uid=95276656\n"
     ]
    }
   ],
   "source": [
    "import requests\n",
    "import json\n",
    "import time\n",
    "import csv\n",
    "\n",
    "# 新建文件保存\n",
    "csvf = open('./mafengwo4.csv','a+',encoding='gbk',newline ='')\n",
    "writer = csv.writer(csvf)\n",
    "writer.writerow(('name','content','score','create_time','user_url'))\n",
    "\n",
    "headers = {\n",
    "    \"User-Agent\": \"Mozilla/5.0 (Windows NT 10.0; Win64; x64) AppleWebKit/537.36 (KHTML, like Gecko) Chrome/80.0.3987.149 Safari/537.36\",\n",
    "    \"Referer\": \"https://item.jd.com/100003961325.html\",\n",
    "    \"cookie\": \"mfw_uuid=5ea525a5-e2ad-9308-5359-57a41d1b29b0; uva=s%3A91%3A%22a%3A3%3A%7Bs%3A2%3A%22lt%22%3Bi%3A1587881382%3Bs%3A10%3A%22last_refer%22%3Bs%3A23%3A%22http%3A%2F%2Fwww.mafengwo.cn%2F%22%3Bs%3A5%3A%22rhost%22%3BN%3B%7D%22%3B; __mfwurd=a%3A3%3A%7Bs%3A6%3A%22f_time%22%3Bi%3A1587881382%3Bs%3A9%3A%22f_rdomain%22%3Bs%3A15%3A%22www.mafengwo.cn%22%3Bs%3A6%3A%22f_host%22%3Bs%3A3%3A%22www%22%3B%7D; __mfwuuid=5ea525a5-e2ad-9308-5359-57a41d1b29b0; UM_distinctid=171b51b10641de-0e17e4e8c4a34b-f313f6d-100200-171b51b10651c1; c=DmDdSy5q-1589680323437-af5b76dd4202b1976333380; __omc_chl=; _fmdata=2N9lFghgOaV7iB2zVeGQADxkSZKecvKO9yQcJyD9FmK16b%2BP2clbllYsKJ4pC3yE%2FiGHSu8LA%2BEEDzUqwp6%2B3lDAzM3TOS98L9kw681ENRc%3D; _xid=n%2Fs62EmJHt2prtW6qP33QMcRIH%2FAsIlkA8vowzD%2FnGEHsCjFZ4bQGkXwQIsRsdUgVbhQxBuMXy%2BAPVpTTsuu1A%3D%3D; __mfwa=1587881381172.69793.6.1589698301321.1589702779055; __mfwlv=1589702779; __mfwvn=4; PHPSESSID=v1mvfhqpo5cf7cs3ijbk8imtq1; _r=baidu; _rp=a%3A2%3A%7Bs%3A1%3A%22p%22%3Bs%3A18%3A%22www.baidu.com%2Flink%22%3Bs%3A1%3A%22t%22%3Bi%3A1589705296%3B%7D; oad_n=a%3A5%3A%7Bs%3A5%3A%22refer%22%3Bs%3A21%3A%22https%3A%2F%2Fwww.baidu.com%22%3Bs%3A2%3A%22hp%22%3Bs%3A13%3A%22www.baidu.com%22%3Bs%3A3%3A%22oid%22%3Bi%3A1026%3Bs%3A2%3A%22dm%22%3Bs%3A15%3A%22www.mafengwo.cn%22%3Bs%3A2%3A%22ft%22%3Bs%3A19%3A%222020-05-17+16%3A48%3A16%22%3B%7D; __mfwothchid=referrer%7Cwww.baidu.com; __omc_r=www.baidu.com; __mfwc=referrer%7Cwww.baidu.com; Hm_lvt_8288b2ed37e5bc9b4c9f7008798d2de0=1587881382,1589679893,1589705296; isDownClick_adis_baidu=1; CNZZDATA30081550=cnzz_eid%3D1556416327-1589704860-https%253A%252F%252Fm.mafengwo.cn%252F%26ntime%3D1589704860; __mfwb=276c2c94dd72.28.direct; __mfwlt=1589705518; Hm_lpvt_8288b2ed37e5bc9b4c9f7008798d2de0=1589705519; walkroof=QO17L94B7904EA2XSUBHDF36N1BJN2CWM1UF353\"\n",
    "}\n",
    "url = \"https://m.mafengwo.cn/hservice/detail/reviews/tag_detail?_ts=1589709449211&boundary=80&hotel_id=4532&tag_id=0&_sn=5841143257\"\n",
    "\n",
    "page_text = requests.get(url=url,headers=headers).text\n",
    "json_data = json.loads(page_text)\n",
    "comments = json_data[\"data\"][\"comment_list\"]\n",
    "urls_list = []\n",
    "for comment in comments:\n",
    "    content = comment[\"content\"]\n",
    "    create_time = comment[\"create_time\"]\n",
    "    score = comment[\"score\"]\n",
    "    name = comment[\"user_info\"][\"name\"]\n",
    "    user_url = comment[\"user_info\"][\"user_url\"]\n",
    "    urls_list.append(user_url)\n",
    "    try:\n",
    "        print(content,create_time,score,name,user_url)\n",
    "        writer.writerow((name,content,score,create_time,user_url))\n",
    "    except:\n",
    "        pass\n",
    "csvf.close()"
   ]
  },
  {
   "cell_type": "code",
   "execution_count": null,
   "metadata": {},
   "outputs": [],
   "source": []
  }
 ],
 "metadata": {
  "kernelspec": {
   "display_name": "Python 3",
   "language": "python",
   "name": "python3"
  },
  "language_info": {
   "codemirror_mode": {
    "name": "ipython",
    "version": 3
   },
   "file_extension": ".py",
   "mimetype": "text/x-python",
   "name": "python",
   "nbconvert_exporter": "python",
   "pygments_lexer": "ipython3",
   "version": "3.7.4"
  },
  "toc": {
   "base_numbering": 1,
   "nav_menu": {},
   "number_sections": true,
   "sideBar": true,
   "skip_h1_title": false,
   "title_cell": "Table of Contents",
   "title_sidebar": "Contents",
   "toc_cell": false,
   "toc_position": {},
   "toc_section_display": true,
   "toc_window_display": false
  }
 },
 "nbformat": 4,
 "nbformat_minor": 4
}
