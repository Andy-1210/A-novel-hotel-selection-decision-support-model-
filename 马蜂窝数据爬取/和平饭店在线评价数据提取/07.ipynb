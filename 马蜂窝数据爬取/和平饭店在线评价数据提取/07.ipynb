{
 "cells": [
  {
   "cell_type": "code",
   "execution_count": null,
   "metadata": {},
   "outputs": [],
   "source": [
    "https://m.mafengwo.cn/hservice/detail/reviews/tag_detail?_ts=1589762576199&boundary=140&hotel_id=4532&tag_id=0&_sn=b0df3b7053"
   ]
  },
  {
   "cell_type": "code",
   "execution_count": 1,
   "metadata": {},
   "outputs": [
    {
     "name": "stdout",
     "output_type": "stream",
     "text": [
      "路过和平饭店，让人想起老上海的时代，很喜欢这里的味道，然而我没有进去🙆🙆 2017-05-02 5 remenber u. https://m.mafengwo.cn/nb/public/sharejump.php?type=25&uid=44257462\n",
      "这是老牌子酒店，酒店的位置就在黄浦江边上，去外滩散步很方便，酒店很有丰厚的历史底蕴感。酒店内环境设施真的超级棒。还有一个小的博物馆在和平饭店内，作为个独特的一部分存在着。馆内展出了镌刻着“华懋饭店”（和平饭店北楼前身）字样的铜制冰筒壶、铜钥匙牌、铜制保温瓶、铜烟灰缸、银制调羹等一批“古董级”用品，以及吴昌硕、傅抱石、刘海粟等名家字画，这是国内第一家以饭店形式建立的博物馆。深厚的历史底蕴和丰富的文化积淀使和平饭店成为33部电影、电视剧的“建筑道具”，近日著名电影导演吴贻弓等许多电影人都给和平饭店写来自己的评价。和平饭店独特的建筑风格是“上海万国建筑博览会”重要的组成部分，它的南楼系仿文艺复兴时期的均衡式公寓建筑，而北楼属美国芝加哥学派的哥特式建筑。和平饭店的“九国式特套”在国内饭店中独一无二。 2017-04-14 5 王九爷殿下 https://m.mafengwo.cn/nb/public/sharejump.php?type=25&uid=76748383\n",
      "我只是在门口看看，里面是什么情况不太清楚，就不做推荐了哈 2017-03-26 5 四叶 https://m.mafengwo.cn/nb/public/sharejump.php?type=25&uid=67594233\n",
      "啥也不说了，名声在外，的确非同凡响，只不过两个人入住，第二天只含一个人的早餐，管理层是否需要重新考衡下？一个人吃，谁吃谁不吃呢？！ 2017-02-21 5 ZQ https://m.mafengwo.cn/nb/public/sharejump.php?type=25&uid=32318447\n",
      "呵呵呵呵呵呵呵呵呵呵呵呵呵呵呵 2017-02-08 5 💍清新怡然 https://m.mafengwo.cn/nb/public/sharejump.php?type=25&uid=71562102\n",
      "老上海的标准，发哥的和平饭店也是个不错电影，能力太有限，没有进去过了，哈哈 2017-02-06 5 David_Z_Zjb https://m.mafengwo.cn/nb/public/sharejump.php?type=25&uid=45407944\n",
      "很古老一家酒店，不过是服务水平还是住的感受都是无与伦比 2017-02-04 5 angel https://m.mafengwo.cn/nb/public/sharejump.php?type=25&uid=17544164\n",
      "的确是一个很奢侈的饭店，除了早餐是259元一位，如此温馨复古的豪华的环境估计在国内是别无他家。值得体验！ 2017-02-04 5 A 瑶瑶 https://m.mafengwo.cn/nb/public/sharejump.php?type=25&uid=45458622\n",
      "和平饭店是上海市地标性建筑，位于上海黄浦区南京东路20号，是上海近代建筑史上第一幢现代派建筑，拥有最具特色的九国式特色套房及众多别具特色的餐厅、宴会厅、多功能厅、酒吧、屋顶观光花园等。\r\n",
      "和平饭店是中国首家世界著名饭店。 2018-02-23 5 伊斯坦布尔的猫 https://m.mafengwo.cn/nb/public/sharejump.php?type=25&uid=17114380\n",
      "非常有历史味道的一家老字号饭店，仿佛穿越时间到了上世纪二三十年代的老上海，让人静下来仔细回味属于那个时代的故事。 2016-12-26 5 realkevin https://m.mafengwo.cn/nb/public/sharejump.php?type=25&uid=48952012\n",
      "和平饭店 也是在拍摄上海的老电影时经常看到的，不过我只从那边无数次的走过，不曾在里面住过啊 2016-12-12 5 黑影恋 https://m.mafengwo.cn/nb/public/sharejump.php?type=25&uid=56051219\n",
      "很有名的酒店，在南京路步行街溜达路过。 2016-12-06 5 ☀阳光靖好✿ https://m.mafengwo.cn/nb/public/sharejump.php?type=25&uid=5220918\n",
      "奢华、大气、很多名人曾入住于此。很有历史沉淀感。 2016-11-13 5 傻傻的土豆 https://m.mafengwo.cn/nb/public/sharejump.php?type=25&uid=43741232\n",
      "只是经过的时候看到，外面很漂亮 2016-11-09 5 FFFFFF https://m.mafengwo.cn/nb/public/sharejump.php?type=25&uid=46388269\n",
      "和平饭店是上海近代建筑史上第一幢现代派建筑.饭店拥有最具特色的九国式特色套房及众多别具特色的餐厅.宴会厅.多功能厅和酒吧.屋顶观光花园等.和平饭店是中国首家被评为世界著名饭店. 2016-11-09 5 记忆旅行 https://m.mafengwo.cn/nb/public/sharejump.php?type=25&uid=5450693\n",
      "位于南京东路的最东端，是上海近代建筑史上第一幢现代派建筑，是首家被评为世界著名饭店的中国饭店。 2017-02-14 5 小生活 https://m.mafengwo.cn/nb/public/sharejump.php?type=25&uid=93438068\n",
      "和平饭店一直是电视里出现的 去往外滩的路上看到 马上留下剪影，哈哈，一看就是高大上啊！ 2016-10-22 5 米糖 https://m.mafengwo.cn/nb/public/sharejump.php?type=25&uid=65120663\n",
      "超喜欢，自从被费尔蒙集团收购后，重新装修了，超级舒服新中式海派风格，下面的酒吧还是要老上海爵士乐表演， 2016-09-09 5 小青椒儿 https://m.mafengwo.cn/nb/public/sharejump.php?type=25&uid=90329022\n",
      "在和平饭店九楼云霄餐厅喝个下午茶，看外滩的角度是独一无二的。不过价格也对得起这份景色。 2016-09-01 5 C. Li https://m.mafengwo.cn/nb/public/sharejump.php?type=25&uid=5149093\n",
      "是沙逊家族在旧上海时期建造的一系列摩天大厦中的一座。去年11月份，进去逛了一圈，还很有上海殖民地时期的印记。富丽堂皇的大堂里挂着很多老照片，还有一个小型的博物馆，里面有更多展品，让游人对这座传奇的建筑和那个逝去的年代有更多的认识，非常棒的地方，值得去看看。 2016-09-01 5 唐讠 https://m.mafengwo.cn/nb/public/sharejump.php?type=25&uid=5075316\n"
     ]
    }
   ],
   "source": [
    "import requests\n",
    "import json\n",
    "import time\n",
    "import csv\n",
    "\n",
    "# 新建文件保存\n",
    "csvf = open('./mafengwo7.csv','a+',encoding='gbk',newline ='')\n",
    "writer = csv.writer(csvf)\n",
    "writer.writerow(('name','content','score','create_time','user_url'))\n",
    "\n",
    "headers = {\n",
    "    \"User-Agent\": \"Mozilla/5.0 (Windows NT 10.0; Win64; x64) AppleWebKit/537.36 (KHTML, like Gecko) Chrome/80.0.3987.149 Safari/537.36\",\n",
    "    \"Referer\": \"https://item.jd.com/100003961325.html\",\n",
    "    \"cookie\": \"mfw_uuid=5ea525a5-e2ad-9308-5359-57a41d1b29b0; uva=s%3A91%3A%22a%3A3%3A%7Bs%3A2%3A%22lt%22%3Bi%3A1587881382%3Bs%3A10%3A%22last_refer%22%3Bs%3A23%3A%22http%3A%2F%2Fwww.mafengwo.cn%2F%22%3Bs%3A5%3A%22rhost%22%3BN%3B%7D%22%3B; __mfwurd=a%3A3%3A%7Bs%3A6%3A%22f_time%22%3Bi%3A1587881382%3Bs%3A9%3A%22f_rdomain%22%3Bs%3A15%3A%22www.mafengwo.cn%22%3Bs%3A6%3A%22f_host%22%3Bs%3A3%3A%22www%22%3B%7D; __mfwuuid=5ea525a5-e2ad-9308-5359-57a41d1b29b0; UM_distinctid=171b51b10641de-0e17e4e8c4a34b-f313f6d-100200-171b51b10651c1; c=DmDdSy5q-1589680323437-af5b76dd4202b1976333380; __omc_chl=; _fmdata=2N9lFghgOaV7iB2zVeGQADxkSZKecvKO9yQcJyD9FmK16b%2BP2clbllYsKJ4pC3yE%2FiGHSu8LA%2BEEDzUqwp6%2B3lDAzM3TOS98L9kw681ENRc%3D; _xid=n%2Fs62EmJHt2prtW6qP33QMcRIH%2FAsIlkA8vowzD%2FnGEHsCjFZ4bQGkXwQIsRsdUgVbhQxBuMXy%2BAPVpTTsuu1A%3D%3D; __mfwa=1587881381172.69793.6.1589698301321.1589702779055; __mfwlv=1589702779; __mfwvn=4; PHPSESSID=v1mvfhqpo5cf7cs3ijbk8imtq1; _r=baidu; _rp=a%3A2%3A%7Bs%3A1%3A%22p%22%3Bs%3A18%3A%22www.baidu.com%2Flink%22%3Bs%3A1%3A%22t%22%3Bi%3A1589705296%3B%7D; oad_n=a%3A5%3A%7Bs%3A5%3A%22refer%22%3Bs%3A21%3A%22https%3A%2F%2Fwww.baidu.com%22%3Bs%3A2%3A%22hp%22%3Bs%3A13%3A%22www.baidu.com%22%3Bs%3A3%3A%22oid%22%3Bi%3A1026%3Bs%3A2%3A%22dm%22%3Bs%3A15%3A%22www.mafengwo.cn%22%3Bs%3A2%3A%22ft%22%3Bs%3A19%3A%222020-05-17+16%3A48%3A16%22%3B%7D; __mfwothchid=referrer%7Cwww.baidu.com; __omc_r=www.baidu.com; __mfwc=referrer%7Cwww.baidu.com; Hm_lvt_8288b2ed37e5bc9b4c9f7008798d2de0=1587881382,1589679893,1589705296; isDownClick_adis_baidu=1; CNZZDATA30081550=cnzz_eid%3D1556416327-1589704860-https%253A%252F%252Fm.mafengwo.cn%252F%26ntime%3D1589704860; __mfwb=276c2c94dd72.28.direct; __mfwlt=1589705518; Hm_lpvt_8288b2ed37e5bc9b4c9f7008798d2de0=1589705519; walkroof=QO17L94B7904EA2XSUBHDF36N1BJN2CWM1UF353\"\n",
    "}\n",
    "url = \"https://m.mafengwo.cn/hservice/detail/reviews/tag_detail?_ts=1589762576199&boundary=140&hotel_id=4532&tag_id=0&_sn=b0df3b7053\"\n",
    "\n",
    "page_text = requests.get(url=url,headers=headers).text\n",
    "json_data = json.loads(page_text)\n",
    "comments = json_data[\"data\"][\"comment_list\"]\n",
    "urls_list = []\n",
    "for comment in comments:\n",
    "    content = comment[\"content\"]\n",
    "    create_time = comment[\"create_time\"]\n",
    "    score = comment[\"score\"]\n",
    "    name = comment[\"user_info\"][\"name\"]\n",
    "    user_url = comment[\"user_info\"][\"user_url\"]\n",
    "    urls_list.append(user_url)\n",
    "    try:\n",
    "        print(content,create_time,score,name,user_url)\n",
    "        writer.writerow((name,content,score,create_time,user_url))\n",
    "    except:\n",
    "        pass\n",
    "csvf.close()"
   ]
  },
  {
   "cell_type": "code",
   "execution_count": null,
   "metadata": {},
   "outputs": [],
   "source": []
  }
 ],
 "metadata": {
  "kernelspec": {
   "display_name": "Python 3",
   "language": "python",
   "name": "python3"
  },
  "language_info": {
   "codemirror_mode": {
    "name": "ipython",
    "version": 3
   },
   "file_extension": ".py",
   "mimetype": "text/x-python",
   "name": "python",
   "nbconvert_exporter": "python",
   "pygments_lexer": "ipython3",
   "version": "3.7.4"
  },
  "toc": {
   "base_numbering": 1,
   "nav_menu": {},
   "number_sections": true,
   "sideBar": true,
   "skip_h1_title": false,
   "title_cell": "Table of Contents",
   "title_sidebar": "Contents",
   "toc_cell": false,
   "toc_position": {},
   "toc_section_display": true,
   "toc_window_display": false
  }
 },
 "nbformat": 4,
 "nbformat_minor": 4
}
