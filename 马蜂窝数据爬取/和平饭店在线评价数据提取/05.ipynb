{
 "cells": [
  {
   "cell_type": "code",
   "execution_count": null,
   "metadata": {},
   "outputs": [],
   "source": [
    "https://m.mafengwo.cn/hservice/detail/reviews/tag_detail?_ts=1589710293238&boundary=100&hotel_id=4532&tag_id=0&_sn=f6c98dfad3"
   ]
  },
  {
   "cell_type": "code",
   "execution_count": 1,
   "metadata": {},
   "outputs": [
    {
     "name": "stdout",
     "output_type": "stream",
     "text": [
      "优异的。绝对推荐，地理位置极佳，员工热情，服务周到，房间风格明显，颇有情调。 2019-07-12 5 圣洁 https://m.mafengwo.cn/nb/public/sharejump.php?type=25&uid=95276330\n",
      "非常好。地點非常好 一出來就是外灘。 2019-07-12 5 Zhaoping https://m.mafengwo.cn/nb/public/sharejump.php?type=25&uid=95273328\n",
      "好。位置在外灘，方便走走逛逛，酒店本身就是一个景點，餐飲品類多味道不錯！員工不热情不專業，辦理入住時的員工根本不主動介紹酒店的服務和設施，等我們問才回答，中间沒有微笑和禮貌用语。反而入住時另外一名外籍員工送了个公仔給寶寶哄宝寶開心。不過後续也沒有人帶我們上房间介紹，這確實不是星級飯店的服務標準。入住期間推着嬰兒車多次在停車場入口处來回，從來沒有人幫我們開門也沒有人上前詢問，只有白天上班時间在大堂电梯口才看到服務员，從大堂到餐廳到酒吧給我的感受就是普遍對國人無熱情和服务质量可言，反而對外籍人士卻態度和藹得多，硬件設施很好，但软件實在配不上上海的老字号酒店。 2019-07-12 5 宣慈 https://m.mafengwo.cn/nb/public/sharejump.php?type=25&uid=95277113\n",
      "酒店中庭，都是鲜花，很多电影取景地。\n",
      "房内设施很赞，特别是洗护用品\n",
      "自助早餐非常棒，露台风景独好。 2018-07-03 5 Yizola https://m.mafengwo.cn/nb/public/sharejump.php?type=25&uid=87337705\n",
      "优异的。值得體驗的一家老字號飯店。上海的溼度比較高 床鋪都有點濕濕的。 2019-07-12 5 山河入梦 https://m.mafengwo.cn/nb/public/sharejump.php?type=25&uid=95277569\n",
      "优异的。爵士酒吧绝对是最大特色！历史悠久设施却翻新得很成功。房间结构设计很合理，比同类五星好很多。 2019-07-12 5 世民 https://m.mafengwo.cn/nb/public/sharejump.php?type=25&uid=95274632\n",
      "优异的。飯店很美，設備很棒，整體舒適度很不錯。 2019-07-12 5 Zhengxian https://m.mafengwo.cn/nb/public/sharejump.php?type=25&uid=95273460\n",
      "去上海一定要体验一下和平饭店。枕头很舒服，床很高很大，备注了加婴儿床，到了酒店发现还加了热奶器，婴儿洗漱用品，婴儿浴盆，挺贴心的，很多细节都做得不错。爵士酒吧有一种穿越回老上海的感觉，天台酒吧看夜景很好。暂时没有。 2019-07-12 5 Антон https://m.mafengwo.cn/nb/public/sharejump.php?type=25&uid=95274371\n",
      "还是很值得住一晚浪漫一下。房间服务非常好，而且很大，设备齐全，有胶囊咖啡。地理位置好到不行。没有USB充电口，酒店早餐一般，下午茶虽然是免费的，可惜没有风景看。 2019-07-12 5 半清半醒半明白 https://m.mafengwo.cn/nb/public/sharejump.php?type=25&uid=95272741\n",
      "优异的。地理位置一流，装修很有老上海的风情。员工某些时候可以再专业一些。 2019-07-12 5 Zhouyouforfun https://m.mafengwo.cn/nb/public/sharejump.php?type=25&uid=95273849\n",
      "优异的。地理位置极好，酒店恰到好处地融合了老上海的风情和新上海的现代，每次去都给人留下极为深刻而难忘的印象。虽然绝大部分员工都非常友善和热情，但也有部分员工可能还可以更专业一些。 2019-07-12 5 Zhuonan https://m.mafengwo.cn/nb/public/sharejump.php?type=25&uid=95273915\n",
      "优异的。整体来说非常好，下次会再来．。 2019-07-12 5 巢徽 https://m.mafengwo.cn/nb/public/sharejump.php?type=25&uid=95277634\n",
      "优异的。和平饭店整栋楼都是老建筑，能维护成这样真的很不容易。他们的服务，可能要数得上五星级标杆了吧。那个态度既不会让你感到过分殷勤又不会让你觉得疏离高傲，不像是被培训出来的标准流程，而是真的为顾客在着想。周到和贴心表现在很多细节方面，给人一种就像被一个旧上海女主人温柔款待的感觉。下次肯定还会住和平饭店。想尝试一下九国套房。基本上是完美的。 2019-07-12 5 夢 https://m.mafengwo.cn/nb/public/sharejump.php?type=25&uid=95276458\n",
      "尚可。好像沒有什麼特別滿意的。前臺接待時冷冰冰，沒有詳細介紹房間及酒店，沒有笑容；除了套房有外灘風景外，其他房間樓層低，沒有風景；早餐單一，不具特色；房間設施比較老舊，沒有現代化，馬桶不是電子的，窗簾沒有電動；所謂的迎賓水果就是三個蘋果，而且沒有洗。 2019-07-12 5 康强 https://m.mafengwo.cn/nb/public/sharejump.php?type=25&uid=95277763\n",
      "一个酒店 可以浓缩一个城市 一段历史的 非和平饭店莫属了 到上海旅游 入住和平饭店 感受上海滩昔日的繁华 历经军事 经济和政治的动荡 古典与现代的融合 所谓行千里路胜读万卷书的体验吧 2018-03-07 5 十起个名字真难 https://m.mafengwo.cn/nb/public/sharejump.php?type=25&uid=84077433\n",
      "令人愉悦。交通便利，离外滩很近。早餐性价比一般，住宿价格加收服务费，但是实际房间设施一般，并无特别之处。 2019-07-12 5 亮竹 https://m.mafengwo.cn/nb/public/sharejump.php?type=25&uid=95274896\n",
      "很好的酒店，去上海可以去体验一下 2018-02-25 5 蚂蜂窝用户 https://m.mafengwo.cn/nb/public/sharejump.php?type=25&uid=94367915\n",
      "服务好、地段好、有逼格的酒店、下次还来 2018-02-24 5 波波 https://m.mafengwo.cn/nb/public/sharejump.php?type=25&uid=94142318\n",
      "不值这个价，估计名气大而已。下次不会再来。地点不错。装修怀旧特色。龙凤餐厅东西很好吃。房间有咖啡机，不错！员工态度一般都普通及差。早餐选择太少，煎个庵列要自己不断去看，为什么不能煎好了送过来？咖啡每次要自己要求才加。停车位一直说紧致，开车出去回来可能就没有了，为什么不能登记好留位给住店客户？（结果还是都有位）。下午4，5点都还没收拾好房间，浴缸塞坏了，修好，再坏。电视太小。Wi-Fi信号弱。总开关无法关闭所有灯。冷暖水调整不畅顺。 2019-07-12 5 小潔 https://m.mafengwo.cn/nb/public/sharejump.php?type=25&uid=95277373\n",
      "尚可。订过的房间刚开始说没有，后面找到了说给我免费升市景房，但我订的是比市景房还贵的金尊费尔蒙房，无语。 2019-07-12 5 后思 https://m.mafengwo.cn/nb/public/sharejump.php?type=25&uid=95275936\n"
     ]
    }
   ],
   "source": [
    "import requests\n",
    "import json\n",
    "import time\n",
    "import csv\n",
    "\n",
    "# 新建文件保存\n",
    "csvf = open('./mafengwo5.csv','a+',encoding='gbk',newline ='')\n",
    "writer = csv.writer(csvf)\n",
    "writer.writerow(('name','content','score','create_time','user_url'))\n",
    "\n",
    "headers = {\n",
    "    \"User-Agent\": \"Mozilla/5.0 (Windows NT 10.0; Win64; x64) AppleWebKit/537.36 (KHTML, like Gecko) Chrome/80.0.3987.149 Safari/537.36\",\n",
    "    \"Referer\": \"https://item.jd.com/100003961325.html\",\n",
    "    \"cookie\": \"mfw_uuid=5ea525a5-e2ad-9308-5359-57a41d1b29b0; uva=s%3A91%3A%22a%3A3%3A%7Bs%3A2%3A%22lt%22%3Bi%3A1587881382%3Bs%3A10%3A%22last_refer%22%3Bs%3A23%3A%22http%3A%2F%2Fwww.mafengwo.cn%2F%22%3Bs%3A5%3A%22rhost%22%3BN%3B%7D%22%3B; __mfwurd=a%3A3%3A%7Bs%3A6%3A%22f_time%22%3Bi%3A1587881382%3Bs%3A9%3A%22f_rdomain%22%3Bs%3A15%3A%22www.mafengwo.cn%22%3Bs%3A6%3A%22f_host%22%3Bs%3A3%3A%22www%22%3B%7D; __mfwuuid=5ea525a5-e2ad-9308-5359-57a41d1b29b0; UM_distinctid=171b51b10641de-0e17e4e8c4a34b-f313f6d-100200-171b51b10651c1; c=DmDdSy5q-1589680323437-af5b76dd4202b1976333380; __omc_chl=; _fmdata=2N9lFghgOaV7iB2zVeGQADxkSZKecvKO9yQcJyD9FmK16b%2BP2clbllYsKJ4pC3yE%2FiGHSu8LA%2BEEDzUqwp6%2B3lDAzM3TOS98L9kw681ENRc%3D; _xid=n%2Fs62EmJHt2prtW6qP33QMcRIH%2FAsIlkA8vowzD%2FnGEHsCjFZ4bQGkXwQIsRsdUgVbhQxBuMXy%2BAPVpTTsuu1A%3D%3D; __mfwa=1587881381172.69793.6.1589698301321.1589702779055; __mfwlv=1589702779; __mfwvn=4; PHPSESSID=v1mvfhqpo5cf7cs3ijbk8imtq1; _r=baidu; _rp=a%3A2%3A%7Bs%3A1%3A%22p%22%3Bs%3A18%3A%22www.baidu.com%2Flink%22%3Bs%3A1%3A%22t%22%3Bi%3A1589705296%3B%7D; oad_n=a%3A5%3A%7Bs%3A5%3A%22refer%22%3Bs%3A21%3A%22https%3A%2F%2Fwww.baidu.com%22%3Bs%3A2%3A%22hp%22%3Bs%3A13%3A%22www.baidu.com%22%3Bs%3A3%3A%22oid%22%3Bi%3A1026%3Bs%3A2%3A%22dm%22%3Bs%3A15%3A%22www.mafengwo.cn%22%3Bs%3A2%3A%22ft%22%3Bs%3A19%3A%222020-05-17+16%3A48%3A16%22%3B%7D; __mfwothchid=referrer%7Cwww.baidu.com; __omc_r=www.baidu.com; __mfwc=referrer%7Cwww.baidu.com; Hm_lvt_8288b2ed37e5bc9b4c9f7008798d2de0=1587881382,1589679893,1589705296; isDownClick_adis_baidu=1; CNZZDATA30081550=cnzz_eid%3D1556416327-1589704860-https%253A%252F%252Fm.mafengwo.cn%252F%26ntime%3D1589704860; __mfwb=276c2c94dd72.28.direct; __mfwlt=1589705518; Hm_lpvt_8288b2ed37e5bc9b4c9f7008798d2de0=1589705519; walkroof=QO17L94B7904EA2XSUBHDF36N1BJN2CWM1UF353\"\n",
    "}\n",
    "url = \"https://m.mafengwo.cn/hservice/detail/reviews/tag_detail?_ts=1589710293238&boundary=100&hotel_id=4532&tag_id=0&_sn=f6c98dfad3\"\n",
    "\n",
    "page_text = requests.get(url=url,headers=headers).text\n",
    "json_data = json.loads(page_text)\n",
    "comments = json_data[\"data\"][\"comment_list\"]\n",
    "urls_list = []\n",
    "for comment in comments:\n",
    "    content = comment[\"content\"]\n",
    "    create_time = comment[\"create_time\"]\n",
    "    score = comment[\"score\"]\n",
    "    name = comment[\"user_info\"][\"name\"]\n",
    "    user_url = comment[\"user_info\"][\"user_url\"]\n",
    "    urls_list.append(user_url)\n",
    "    try:\n",
    "        print(content,create_time,score,name,user_url)\n",
    "        writer.writerow((name,content,score,create_time,user_url))\n",
    "    except:\n",
    "        pass\n",
    "csvf.close()"
   ]
  },
  {
   "cell_type": "code",
   "execution_count": null,
   "metadata": {},
   "outputs": [],
   "source": []
  }
 ],
 "metadata": {
  "kernelspec": {
   "display_name": "Python 3",
   "language": "python",
   "name": "python3"
  },
  "language_info": {
   "codemirror_mode": {
    "name": "ipython",
    "version": 3
   },
   "file_extension": ".py",
   "mimetype": "text/x-python",
   "name": "python",
   "nbconvert_exporter": "python",
   "pygments_lexer": "ipython3",
   "version": "3.7.4"
  },
  "toc": {
   "base_numbering": 1,
   "nav_menu": {},
   "number_sections": true,
   "sideBar": true,
   "skip_h1_title": false,
   "title_cell": "Table of Contents",
   "title_sidebar": "Contents",
   "toc_cell": false,
   "toc_position": {},
   "toc_section_display": true,
   "toc_window_display": false
  }
 },
 "nbformat": 4,
 "nbformat_minor": 4
}
