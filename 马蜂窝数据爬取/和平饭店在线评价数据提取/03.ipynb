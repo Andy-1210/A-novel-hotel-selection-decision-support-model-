{
 "cells": [
  {
   "cell_type": "code",
   "execution_count": null,
   "metadata": {},
   "outputs": [],
   "source": [
    "https://m.mafengwo.cn/hservice/detail/reviews/tag_detail?_ts=1589762374566&boundary=60&hotel_id=4532&tag_id=0&_sn=18bda73be5"
   ]
  },
  {
   "cell_type": "code",
   "execution_count": 1,
   "metadata": {},
   "outputs": [
    {
     "name": "stdout",
     "output_type": "stream",
     "text": [
      "非常好。停车场管理员态度傲慢，行李员入住管拿行李，离店没人理。服务意识差。 2019-07-12 5 Zongbo https://m.mafengwo.cn/nb/public/sharejump.php?type=25&uid=95274176\n",
      "古色古香，值得一去，位置超好，房间结构合理 2018-09-30 5 蚂蜂窝用户 https://m.mafengwo.cn/nb/public/sharejump.php?type=25&uid=65599534\n",
      "完美的入住体验。总体还是非常不错的，早餐也是非常的不错，主要是喜欢外滩老建筑的人推荐入住，本身就是一个博物馆。基本上没有不足。 2019-07-12 5 婉瑜 https://m.mafengwo.cn/nb/public/sharejump.php?type=25&uid=95276785\n",
      "优异的。极少数的，几乎感觉服务员的素质要比某些客人高的酒店。名不虚传。 2019-07-12 5 Yungfeng https://m.mafengwo.cn/nb/public/sharejump.php?type=25&uid=95273068\n",
      "差劲。虽然是1929年的古董酒店，但是楼道里的异味还是让人不舒服。遇到的一些酒店员工态度傲慢与冷淡。完全不符合费尔蒙酒店集团的管理品质。很差的体验。 2019-07-12 5 加a菲 https://m.mafengwo.cn/nb/public/sharejump.php?type=25&uid=95275675\n",
      "优异的。建議試試早餐，餐點很多選擇，從傳統上海小點、麵點、西式早餐等，也可以享受高級服務爵士酒吧是一定要體驗的離地鐵站有點距離，外灘遊客很多，盡量避免人多的時間check in/out。 2019-07-12 5 笔间心事 https://m.mafengwo.cn/nb/public/sharejump.php?type=25&uid=95272806\n",
      "古典風雅。外窗隔音差，住宿期間外邊整晚施工，噪音吵整晚無法入眠。 2019-07-12 5 小兔仙 https://m.mafengwo.cn/nb/public/sharejump.php?type=25&uid=95277244\n",
      "性价比还是蛮好的，距离外滩也比较方便 2018-09-16 5 T.C https://m.mafengwo.cn/nb/public/sharejump.php?type=25&uid=41038718\n",
      "位置佳，充滿懷舊風，外灘飯店首選。早餐好吃，服務親切。房間佈置典雅，床也十分舒適，浴室寬敞明亮，很有設計感。淋浴門無法密合，水會外溢。 2019-07-12 5 四分 https://m.mafengwo.cn/nb/public/sharejump.php?type=25&uid=95276263\n",
      "好极了。位置、客房及餐點都很棒。 2019-07-12 5 Zuchuang https://m.mafengwo.cn/nb/public/sharejump.php?type=25&uid=95274241\n",
      "优异的。特别棒，整个酒店美美哒!理外滩几步路就到了，地理位置特别棒。 2019-07-12 5 中國國家社會主義勞工黨 https://m.mafengwo.cn/nb/public/sharejump.php?type=25&uid=95274699\n",
      "距外灘近。床舒適。淋浴門的防水需要改善。 2019-07-12 5 后语 https://m.mafengwo.cn/nb/public/sharejump.php?type=25&uid=95275937\n",
      "喜欢里面的浴缸但电视配置不好，坐在浴缸里看不清图像，游泳池很棒很舒服 2018-08-30 5 石忠榕Peter https://m.mafengwo.cn/nb/public/sharejump.php?type=25&uid=72356394\n",
      "很满意。提供了二大一小的早餐，很温馨。 2019-07-12 5 宗諺 https://m.mafengwo.cn/nb/public/sharejump.php?type=25&uid=95277046\n",
      "好极了。房間非常的舒適 空間寬敞 交通也很方便, 飯店過一條馬路, 就是上海灘頂樓的酒吧 可以一覽外灘風景非常棒的景色值得花上一整天好好的休息 享受飯店的設施!。 2019-07-12 5 千瑜 https://m.mafengwo.cn/nb/public/sharejump.php?type=25&uid=95275742\n",
      "优异的。环境和服务都很不错，作为成人很值得一住。遗憾的是带了小孩，没能进去爵士吧体会旧上海风情。床太高，不利于小孩睡。对于小孩的设施基本没有，包括儿童洗簌用品，因为住过四季酒店儿童用品应有尽有，甚至包括奶瓶消毒器。如果在这方面改进，就完美了。 2019-07-12 5 Zhanjie https://m.mafengwo.cn/nb/public/sharejump.php?type=25&uid=95273263\n",
      "如果卫生没有出问题，就很好了。卫生间放牙刷洗漱用具的托盘里竟然有头发，很长的一根在底部。对于和平饭店而言，这简直是不可思议。 2019-07-12 5 Zhibang https://m.mafengwo.cn/nb/public/sharejump.php?type=25&uid=95273591\n",
      "优异的。服務真的好的沒話說,很值得住.。 2019-07-12 5 唛麦翼天天 https://m.mafengwo.cn/nb/public/sharejump.php?type=25&uid=95276131\n",
      "可以。餐饮超贵，一杯白开水 10元，吃了一顿早餐和一顿午餐，食物品质中上，但价格极高。前台迎宾和客房清洁一般般。总的感觉高大上。五星级酒店， 入门无人greeting 和提行李；服务不主动，入住第一天 在要求下由一名女工作人员从前台引导到客房，期间没帮助提行李；态度虚伪，入住第一天正好女儿生日，询问生日蛋糕，推说没有预订和时间太晚蛋糕师下班，后在一再要求下，送了一个乱七八糟的小蛋糕，吃了一小口，留在房间里。不可想象，高大上的五星级酒店竟如此服务。 2019-07-12 5 Zhimou https://m.mafengwo.cn/nb/public/sharejump.php?type=25&uid=95273655\n",
      "好。乾淨整潔位置很好。我們不在房間時有員工送進來迎賓水果這樣是不是有點侵犯我們的隱私權呢。 2019-07-12 5 Zengzh https://m.mafengwo.cn/nb/public/sharejump.php?type=25&uid=95273132\n"
     ]
    }
   ],
   "source": [
    "import requests\n",
    "import json\n",
    "import time\n",
    "import csv\n",
    "\n",
    "# 新建文件保存\n",
    "csvf = open('./mafengwo3.csv','a+',encoding='gbk',newline ='')\n",
    "writer = csv.writer(csvf)\n",
    "writer.writerow(('name','content','score','create_time','user_url'))\n",
    "\n",
    "headers = {\n",
    "    \"User-Agent\": \"Mozilla/5.0 (Windows NT 10.0; Win64; x64) AppleWebKit/537.36 (KHTML, like Gecko) Chrome/80.0.3987.149 Safari/537.36\",\n",
    "    \"Referer\": \"https://item.jd.com/100003961325.html\",\n",
    "    \"cookie\": \"mfw_uuid=5ea525a5-e2ad-9308-5359-57a41d1b29b0; uva=s%3A91%3A%22a%3A3%3A%7Bs%3A2%3A%22lt%22%3Bi%3A1587881382%3Bs%3A10%3A%22last_refer%22%3Bs%3A23%3A%22http%3A%2F%2Fwww.mafengwo.cn%2F%22%3Bs%3A5%3A%22rhost%22%3BN%3B%7D%22%3B; __mfwurd=a%3A3%3A%7Bs%3A6%3A%22f_time%22%3Bi%3A1587881382%3Bs%3A9%3A%22f_rdomain%22%3Bs%3A15%3A%22www.mafengwo.cn%22%3Bs%3A6%3A%22f_host%22%3Bs%3A3%3A%22www%22%3B%7D; __mfwuuid=5ea525a5-e2ad-9308-5359-57a41d1b29b0; UM_distinctid=171b51b10641de-0e17e4e8c4a34b-f313f6d-100200-171b51b10651c1; c=DmDdSy5q-1589680323437-af5b76dd4202b1976333380; __omc_chl=; _fmdata=2N9lFghgOaV7iB2zVeGQADxkSZKecvKO9yQcJyD9FmK16b%2BP2clbllYsKJ4pC3yE%2FiGHSu8LA%2BEEDzUqwp6%2B3lDAzM3TOS98L9kw681ENRc%3D; _xid=n%2Fs62EmJHt2prtW6qP33QMcRIH%2FAsIlkA8vowzD%2FnGEHsCjFZ4bQGkXwQIsRsdUgVbhQxBuMXy%2BAPVpTTsuu1A%3D%3D; __mfwa=1587881381172.69793.6.1589698301321.1589702779055; __mfwlv=1589702779; __mfwvn=4; PHPSESSID=v1mvfhqpo5cf7cs3ijbk8imtq1; _r=baidu; _rp=a%3A2%3A%7Bs%3A1%3A%22p%22%3Bs%3A18%3A%22www.baidu.com%2Flink%22%3Bs%3A1%3A%22t%22%3Bi%3A1589705296%3B%7D; oad_n=a%3A5%3A%7Bs%3A5%3A%22refer%22%3Bs%3A21%3A%22https%3A%2F%2Fwww.baidu.com%22%3Bs%3A2%3A%22hp%22%3Bs%3A13%3A%22www.baidu.com%22%3Bs%3A3%3A%22oid%22%3Bi%3A1026%3Bs%3A2%3A%22dm%22%3Bs%3A15%3A%22www.mafengwo.cn%22%3Bs%3A2%3A%22ft%22%3Bs%3A19%3A%222020-05-17+16%3A48%3A16%22%3B%7D; __mfwothchid=referrer%7Cwww.baidu.com; __omc_r=www.baidu.com; __mfwc=referrer%7Cwww.baidu.com; Hm_lvt_8288b2ed37e5bc9b4c9f7008798d2de0=1587881382,1589679893,1589705296; isDownClick_adis_baidu=1; CNZZDATA30081550=cnzz_eid%3D1556416327-1589704860-https%253A%252F%252Fm.mafengwo.cn%252F%26ntime%3D1589704860; __mfwb=276c2c94dd72.28.direct; __mfwlt=1589705518; Hm_lpvt_8288b2ed37e5bc9b4c9f7008798d2de0=1589705519; walkroof=QO17L94B7904EA2XSUBHDF36N1BJN2CWM1UF353\"\n",
    "}\n",
    "url = \"https://m.mafengwo.cn/hservice/detail/reviews/tag_detail?_ts=1589762374566&boundary=60&hotel_id=4532&tag_id=0&_sn=18bda73be5\"\n",
    "\n",
    "page_text = requests.get(url=url,headers=headers).text\n",
    "json_data = json.loads(page_text)\n",
    "comments = json_data[\"data\"][\"comment_list\"]\n",
    "urls_list = []\n",
    "for comment in comments:\n",
    "    content = comment[\"content\"]\n",
    "    create_time = comment[\"create_time\"]\n",
    "    score = comment[\"score\"]\n",
    "    name = comment[\"user_info\"][\"name\"]\n",
    "    user_url = comment[\"user_info\"][\"user_url\"]\n",
    "    urls_list.append(user_url)\n",
    "    try:\n",
    "        print(content,create_time,score,name,user_url)\n",
    "        writer.writerow((name,content,score,create_time,user_url))\n",
    "    except:\n",
    "        pass\n",
    "csvf.close()"
   ]
  },
  {
   "cell_type": "code",
   "execution_count": null,
   "metadata": {},
   "outputs": [],
   "source": []
  }
 ],
 "metadata": {
  "kernelspec": {
   "display_name": "Python 3",
   "language": "python",
   "name": "python3"
  },
  "language_info": {
   "codemirror_mode": {
    "name": "ipython",
    "version": 3
   },
   "file_extension": ".py",
   "mimetype": "text/x-python",
   "name": "python",
   "nbconvert_exporter": "python",
   "pygments_lexer": "ipython3",
   "version": "3.7.4"
  },
  "toc": {
   "base_numbering": 1,
   "nav_menu": {},
   "number_sections": true,
   "sideBar": true,
   "skip_h1_title": false,
   "title_cell": "Table of Contents",
   "title_sidebar": "Contents",
   "toc_cell": false,
   "toc_position": {},
   "toc_section_display": true,
   "toc_window_display": false
  }
 },
 "nbformat": 4,
 "nbformat_minor": 4
}
